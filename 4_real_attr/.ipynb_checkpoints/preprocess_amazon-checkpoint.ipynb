{
 "cells": [
  {
   "cell_type": "markdown",
   "metadata": {},
   "source": [
    "# Pre-Process Amazon Product Co-Purchasing Graph"
   ]
  },
  {
   "cell_type": "markdown",
   "metadata": {},
   "source": [
    "## Preprocess"
   ]
  },
  {
   "cell_type": "code",
   "execution_count": null,
   "metadata": {},
   "outputs": [],
   "source": [
    "import matplotlib.pyplot as plt\n",
    "import pandas as pd\n",
    "import numpy as np\n",
    "import scipy as sio\n",
    "import networkx as nx\n",
    "import csv\n",
    "from collections import Counter\n",
    "from itertools import combinations as cmb\n",
    "import os\n",
    "\n",
    "## networkx\n",
    "import networkx as nx\n",
    "from networkx.generators import random_graphs\n",
    "from networkx.generators import social\n",
    "from networkx.generators import classic\n",
    "\n",
    "\n",
    "## smallworld\n",
    "from smallworld.draw import draw_network\n",
    "from smallworld import get_smallworld_graph\n",
    "\n",
    "## snap\n",
    "color_map =[\"grey\"]\n",
    "\n",
    "## graph sampling\n",
    "from sampling import ForestFire, Metropolis_Hastings, Random_Walk, Snowball, Ties, Base_Samplers"
   ]
  },
  {
   "cell_type": "code",
   "execution_count": null,
   "metadata": {},
   "outputs": [],
   "source": [
    "df_edges = pd.read_csv('data/amazon/edges_all.csv')\n",
    "df_nodes  = pd.read_csv('data/amazon/nodes_all.csv')\n",
    "\n",
    "edges      = df_edges.values\n",
    "nodes      = df_nodes.values\n",
    "\n",
    "edges_attributes      = df_edges.columns.values\n",
    "nodes_attributes      = df_nodes.columns.values\n",
    "\n",
    "print(edges_attributes, nodes_attributes)"
   ]
  },
  {
   "cell_type": "code",
   "execution_count": null,
   "metadata": {},
   "outputs": [],
   "source": [
    "df.to_csv('/Users/niklasstoehr/Programming/thesis/2_real_graphs/data/amazon/nodes_2.csv', index = None, header=True)"
   ]
  },
  {
   "cell_type": "markdown",
   "metadata": {},
   "source": [
    "## Subset"
   ]
  },
  {
   "cell_type": "code",
   "execution_count": null,
   "metadata": {},
   "outputs": [],
   "source": [
    "df_edges = pd.read_csv('data/amazon/edges_subset.csv')"
   ]
  },
  {
   "cell_type": "code",
   "execution_count": null,
   "metadata": {},
   "outputs": [],
   "source": [
    "edges = df_edges.values\n",
    "nodes = list()\n",
    "\n",
    "for e1, e2 in edges:\n",
    "    \n",
    "    nodes.append(e1) \n",
    "    nodes.append(e2)\n",
    "    \n",
    "nodes = list(set(nodes))\n",
    "R = list(range(0, len(nodes)))\n",
    "print(len(R), len(nodes))"
   ]
  },
  {
   "cell_type": "code",
   "execution_count": null,
   "metadata": {},
   "outputs": [],
   "source": [
    "nodes_df = pd.DataFrame(\n",
    "    {'Id': nodes,\n",
    "     'rating': R,\n",
    "    })\n",
    "\n",
    "nodes_df.to_csv('/Users/niklasstoehr/Programming/thesis/4_real_attr/data/amazon/nodes_subset.csv', index = None, header=True)"
   ]
  },
  {
   "cell_type": "code",
   "execution_count": null,
   "metadata": {},
   "outputs": [],
   "source": [
    "g_complete = nx.read_weighted_edgelist(\"/Users/niklasstoehr/Programming/thesis/4_real_attr/data/cora/cora.edges\",  delimiter = \",\")\n",
    "Sample_nodes = list(g_complete.nodes())\n",
    "Sample_edges = list(g_complete.edges())\n",
    "\n",
    "\n",
    "## Links\n",
    "L_num = list()\n",
    "Source_num = list()\n",
    "Target_num = list()\n",
    "\n",
    "for l in Sample_edges:\n",
    "    L_num.append((l[0],l[1]))\n",
    "    Source_num.append(l[0])\n",
    "    Target_num.append(l[1])"
   ]
  },
  {
   "cell_type": "code",
   "execution_count": null,
   "metadata": {},
   "outputs": [],
   "source": [
    "nodes = pd.DataFrame(\n",
    "    {'Id': Sample_nodes}\n",
    "    )\n",
    "\n",
    "edges = pd.DataFrame(\n",
    "    {'Source': Source_num,\n",
    "     'Target': Target_num,\n",
    "    })"
   ]
  },
  {
   "cell_type": "code",
   "execution_count": null,
   "metadata": {},
   "outputs": [],
   "source": [
    "nodes.to_csv('/Users/niklasstoehr/Programming/thesis/4_real_attr/data/cora/nodes.csv', index = None, header=True)\n",
    "edges.to_csv('/Users/niklasstoehr/Programming/thesis/4_real_attr/data/cora/edges.csv', index = None, header=True)"
   ]
  },
  {
   "cell_type": "code",
   "execution_count": null,
   "metadata": {},
   "outputs": [],
   "source": [
    "df_nodes = pd.read_csv('/Users/niklasstoehr/Programming/thesis/4_real_attr/data/amazon/nodes.csv')\n",
    "df_edges = pd.read_csv('/Users/niklasstoehr/Programming/thesis/4_real_attr/data/amazon/edges.csv')"
   ]
  },
  {
   "cell_type": "markdown",
   "metadata": {},
   "source": [
    "## Nodes"
   ]
  },
  {
   "cell_type": "code",
   "execution_count": null,
   "metadata": {},
   "outputs": [],
   "source": [
    "f = open('data/amazon/amazon_raw.txt','r') \n",
    "Items = list()\n",
    "\n",
    "line = f.readline()\n",
    "\n",
    "while line:\n",
    "    \n",
    "    if \"Id:   \" in line:\n",
    "        id_num = int(line.split(\"Id:   \")[1].replace(\"\\n\", \"\"))\n",
    "        item_complete = list()\n",
    "        item_complete.append(id_num)\n",
    "        \n",
    "        while len(item_complete) != 4:\n",
    "                        \n",
    "            if \"title: \" in line:\n",
    "                title = line.split(\"title: \")[1].replace(\"\\n\", \"\")\n",
    "                item_complete.append(title)\n",
    "\n",
    "            if \"group: \" in line:\n",
    "                group = line.split(\"group: \")[1].replace(\"\\n\", \"\")\n",
    "                item_complete.append(group)\n",
    "\n",
    "            if \"avg rating: \" in line:\n",
    "                rating = float(line.split(\"avg rating: \")[1].replace(\"\\n\", \"\"))\n",
    "                item_complete.append(rating)\n",
    "\n",
    "            line = f.readline() ## read next line\n",
    "        \n",
    "        Items.append(item_complete)\n",
    "        \n",
    "    line = f.readline() ## read next line\n",
    "                \n",
    "f.close()\n",
    "\n",
    "## pre-process and sort\n",
    "#L = set(L)\n",
    "\n",
    "#A_sorted = sorted(A.items(), key=operator.itemgetter(1), reverse=True)\n",
    "#A_sorted = [n_a[0] for n_a in A_sorted]"
   ]
  },
  {
   "cell_type": "markdown",
   "metadata": {},
   "source": [
    "## Edges"
   ]
  },
  {
   "cell_type": "code",
   "execution_count": null,
   "metadata": {},
   "outputs": [],
   "source": [
    "f = open('data/amazon/amazon_raw.txt','r') \n",
    "Items = list()\n",
    "\n",
    "line = f.readline()\n",
    "\n",
    "while line:\n",
    "    \n",
    "    if \"Id:   \" in line:\n",
    "        id_num = int(line.split(\"Id:   \")[1].replace(\"\\n\", \"\"))\n",
    "        item_complete = list()\n",
    "        item_complete.append(id_num)\n",
    "        \n",
    "        while len(item_complete) != 4:\n",
    "                        \n",
    "            if \"title: \" in line:\n",
    "                title = line.split(\"title: \")[1].replace(\"\\n\", \"\")\n",
    "                item_complete.append(title)\n",
    "\n",
    "            if \"group: \" in line:\n",
    "                group = line.split(\"group: \")[1].replace(\"\\n\", \"\")\n",
    "                item_complete.append(group)\n",
    "\n",
    "            if \"avg rating: \" in line:\n",
    "                rating = float(line.split(\"avg rating: \")[1].replace(\"\\n\", \"\"))\n",
    "                item_complete.append(rating)\n",
    "\n",
    "            line = f.readline() ## read next line\n",
    "        \n",
    "        Items.append(item_complete)\n",
    "        \n",
    "    line = f.readline() ## read next line\n",
    "                \n",
    "f.close()"
   ]
  },
  {
   "cell_type": "code",
   "execution_count": null,
   "metadata": {},
   "outputs": [],
   "source": [
    "len(Items)"
   ]
  },
  {
   "cell_type": "markdown",
   "metadata": {},
   "source": [
    "## Save Data"
   ]
  },
  {
   "cell_type": "code",
   "execution_count": null,
   "metadata": {},
   "outputs": [],
   "source": [
    "## Citations\n",
    "Id = list()\n",
    "Name = list()\n",
    "Rating = list()\n",
    "\n",
    "for item in Items:\n",
    "    Id.append(item[0])\n",
    "    Name.append(item[1] + \" \" + item[2])\n",
    "    Rating.append(item[3])"
   ]
  },
  {
   "cell_type": "code",
   "execution_count": null,
   "metadata": {},
   "outputs": [],
   "source": [
    "nodes_df = pd.DataFrame(\n",
    "    {'Id': Id,\n",
    "     'product_name': Name,\n",
    "     'rating': Rating,\n",
    "    })\n",
    "\n",
    "\n",
    "nodes_df.to_csv(\"/Users/niklasstoehr/Programming/thesis/4_real_attr/data/amazon/nodes_attribute.csv\", index = None, header=True)"
   ]
  },
  {
   "cell_type": "code",
   "execution_count": null,
   "metadata": {},
   "outputs": [],
   "source": []
  }
 ],
 "metadata": {
  "kernelspec": {
   "display_name": "Python 3",
   "language": "python",
   "name": "python3"
  },
  "language_info": {
   "codemirror_mode": {
    "name": "ipython",
    "version": 3
   },
   "file_extension": ".py",
   "mimetype": "text/x-python",
   "name": "python",
   "nbconvert_exporter": "python",
   "pygments_lexer": "ipython3",
   "version": "3.7.3"
  }
 },
 "nbformat": 4,
 "nbformat_minor": 2
}
