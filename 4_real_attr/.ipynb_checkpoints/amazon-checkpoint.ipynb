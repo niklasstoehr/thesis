{
 "cells": [
  {
   "cell_type": "markdown",
   "metadata": {},
   "source": [
    "# Amazon Product Co-Purchasing Graph"
   ]
  },
  {
   "cell_type": "markdown",
   "metadata": {},
   "source": [
    "## Preprocess"
   ]
  },
  {
   "cell_type": "code",
   "execution_count": 5,
   "metadata": {},
   "outputs": [
    {
     "name": "stdout",
     "output_type": "stream",
     "text": [
      "['Source' 'Target' 'Weight'] ['Id' 'reviews_1' 'rating']\n"
     ]
    }
   ],
   "source": [
    "import matplotlib.pyplot as plt\n",
    "import pandas as pd\n",
    "import numpy as np\n",
    "import scipy as sio\n",
    "import networkx as nx\n",
    "import csv\n",
    "from collections import Counter\n",
    "from itertools import combinations as cmb\n",
    "import os\n",
    "\n",
    "\n",
    "df_edges = pd.read_csv('data/amazon/edges.csv')\n",
    "df_nodes  = pd.read_csv('data/amazon/nodes.csv')\n",
    "\n",
    "edges      = df_edges.values\n",
    "nodes      = df_nodes.values\n",
    "\n",
    "edges_attributes      = df_edges.columns.values\n",
    "nodes_attributes      = df_nodes.columns.values\n",
    "\n",
    "print(edges_attributes, nodes_attributes)"
   ]
  },
  {
   "cell_type": "code",
   "execution_count": 19,
   "metadata": {},
   "outputs": [],
   "source": [
    "df = df[df['Id'].isin(df_edges['Target'])]"
   ]
  },
  {
   "cell_type": "code",
   "execution_count": 23,
   "metadata": {},
   "outputs": [],
   "source": [
    "df.to_csv('/Users/niklasstoehr/Programming/thesis/2_real_graphs/data/amazon/nodes_2.csv', index = None, header=True)"
   ]
  },
  {
   "cell_type": "code",
   "execution_count": null,
   "metadata": {},
   "outputs": [],
   "source": []
  }
 ],
 "metadata": {
  "kernelspec": {
   "display_name": "Python 3",
   "language": "python",
   "name": "python3"
  },
  "language_info": {
   "codemirror_mode": {
    "name": "ipython",
    "version": 3
   },
   "file_extension": ".py",
   "mimetype": "text/x-python",
   "name": "python",
   "nbconvert_exporter": "python",
   "pygments_lexer": "ipython3",
   "version": "3.7.3"
  }
 },
 "nbformat": 4,
 "nbformat_minor": 2
}
