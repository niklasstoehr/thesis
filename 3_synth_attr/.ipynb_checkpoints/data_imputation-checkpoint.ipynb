{
 "cells": [
  {
   "cell_type": "markdown",
   "metadata": {},
   "source": [
    "# Data Imputation"
   ]
  },
  {
   "cell_type": "markdown",
   "metadata": {},
   "source": [
    "### Libs"
   ]
  },
  {
   "cell_type": "code",
   "execution_count": 1,
   "metadata": {
    "code_folding": [
     0
    ]
   },
   "outputs": [
    {
     "name": "stderr",
     "output_type": "stream",
     "text": [
      "Using TensorFlow backend.\n"
     ]
    }
   ],
   "source": [
    "## libs \n",
    "from __future__ import absolute_import\n",
    "from __future__ import division\n",
    "from __future__ import print_function\n",
    "\n",
    "## Keras\n",
    "from keras.layers import Lambda, Input, Dense, Conv2D, Conv2DTranspose, Flatten, Reshape\n",
    "from keras.models import Model\n",
    "from keras.callbacks import EarlyStopping, ModelCheckpoint\n",
    "from keras.losses import mse, binary_crossentropy\n",
    "from keras.utils import plot_model\n",
    "from keras import backend as K\n",
    "\n",
    "## Basic\n",
    "from tqdm import tqdm_notebook as tqdm\n",
    "import argparse\n",
    "import os\n",
    "import random\n",
    "import itertools\n",
    "import time\n",
    "\n",
    "# Computation\n",
    "import numpy as np\n",
    "from sklearn.model_selection import train_test_split\n",
    "from sklearn.metrics import mutual_info_score\n",
    "from sklearn.preprocessing import MinMaxScaler\n",
    "\n",
    "import scipy\n",
    "from scipy.stats.stats import pearsonr \n",
    "\n",
    "## Visualization\n",
    "import matplotlib.pyplot as plt\n",
    "import matplotlib as mpl\n",
    "import seaborn as sns\n",
    "\n",
    "## Network Processing\n",
    "import networkx as nx\n",
    "from networkx.generators import random_graphs\n",
    "\n",
    "## node colour\n",
    "orig_cmap = plt.cm.PuBu"
   ]
  },
  {
   "cell_type": "markdown",
   "metadata": {},
   "source": [
    "### Supporting Function"
   ]
  },
  {
   "cell_type": "code",
   "execution_count": 2,
   "metadata": {
    "code_folding": [
     0
    ]
   },
   "outputs": [],
   "source": [
    "## supporting functions\n",
    "from support.preprocessing import sort_adj, reshape_A, calculate_A_shape, reconstruct_adjacency, pad_matrix, unpad_matrix, pad_attr, unpad_attr, prepare_in_out\n",
    "from support.metrics import compute_mig, compute_mi\n",
    "from support.graph_generating import generate_single_features, generate_manifold_features\n",
    "from support.latent_space import vis2D, visDistr\n",
    "from support.comparing import compare_manifold_adjacency, compare_topol_manifold\n",
    "from support.plotting import shiftedColorMap\n",
    "\n",
    "## graph sampling\n",
    "from sampling import ForestFire, Metropolis_Hastings, Random_Walk, Snowball, Ties, Base_Samplers"
   ]
  },
  {
   "cell_type": "code",
   "execution_count": 3,
   "metadata": {
    "code_folding": [
     0
    ]
   },
   "outputs": [
    {
     "data": {
      "image/png": "[encoded data removed]",
      "text/plain": [
       "<Figure size 432x288 with 1 Axes>"
      ]
     },
     "metadata": {},
     "output_type": "display_data"
    }
   ],
   "source": [
    "def get_graph(n,p,draw): \n",
    "\n",
    "    g = random_graphs.erdos_renyi_graph(n, p, seed=None, directed=False)\n",
    "\n",
    "    if draw:\n",
    "        f = np.random.rand(n)\n",
    "        orig_cmap = plt.cm.PuBu\n",
    "        fixed_cmap = shiftedColorMap(orig_cmap, start=min(f), midpoint=0.5, stop=max(f), name='fixed')\n",
    "        nx.draw(g, node_color=f, font_color='white', cmap = fixed_cmap)\n",
    "        plt.show()\n",
    "    \n",
    "    return g\n",
    "\n",
    "g = get_graph(n = 10, p = 0.4, draw = True)"
   ]
  },
  {
   "cell_type": "code",
   "execution_count": 4,
   "metadata": {
    "code_folding": [
     0
    ]
   },
   "outputs": [],
   "source": [
    "def generate_features(dataArgs, g, n, p):\n",
    "    \n",
    "        if dataArgs[\"feature_dependence\"] == \"random\":\n",
    "            f = np.random.rand(n, dataArgs[\"n_features\"])                   ## float\n",
    "            #F[i] = np.random.randint(2, size=(dataArgs[\"n_max\"],dataArgs[\"n_features\"]))   ## int\n",
    "            \n",
    "        if dataArgs[\"feature_dependence\"] == \"norm_degree\":\n",
    "            if dataArgs[\"n_features\"] == 1:\n",
    "                \n",
    "                f = np.asarray([int(x[1]) for x in sorted(g.degree())])  \n",
    "                f = (f) / (max(f)+1)\n",
    "                f = np.reshape(f, (f.shape[-1],1))\n",
    "                \n",
    "                    \n",
    "        if dataArgs[\"feature_dependence\"] == \"degree\":\n",
    "            if dataArgs[\"n_features\"] == 1:\n",
    "                \n",
    "                f = np.asarray([int(x[1]) for x in sorted(g.degree())])  \n",
    "                f = (f+1) / (dataArgs[\"n_max\"]+1)\n",
    "                f = np.reshape(f, (f.shape[-1],1))\n",
    "                \n",
    "                \n",
    "        if dataArgs[\"feature_dependence\"] == \"p\":  \n",
    "            if dataArgs[\"n_features\"] == 1:\n",
    "                f = np.ones((n , 1)) * p\n",
    "                \n",
    "        return f"
   ]
  },
  {
   "cell_type": "code",
   "execution_count": 5,
   "metadata": {
    "code_folding": [
     0
    ]
   },
   "outputs": [
    {
     "name": "stdout",
     "output_type": "stream",
     "text": [
      "feature_dependence: degree\n"
     ]
    },
    {
     "data": {
      "application/vnd.jupyter.widget-view+json": {
       "model_id": "23f4aa20a5eb45abb19d6db3f8236642",
       "version_major": 2,
       "version_minor": 0
      },
      "text/plain": [
       "HBox(children=(IntProgress(value=0, max=10000), HTML(value='')))"
      ]
     },
     "metadata": {},
     "output_type": "display_data"
    },
    {
     "name": "stdout",
     "output_type": "stream",
     "text": [
      "\n",
      "input_shape: ((10, 1), (10, 10, 1)) , output_shape: ((10, 1), (10, 10, 1))\n"
     ]
    }
   ],
   "source": [
    "def generate_data(dataArgs): \n",
    "    \n",
    "    \n",
    "    ## Data ________________________________\n",
    "\n",
    "    G = np.zeros((dataArgs[\"n_graphs\"], *calculate_A_shape(dataArgs[\"n_max\"], dataArgs[\"diag_offset\"])))\n",
    "    F = np.zeros((dataArgs[\"n_graphs\"], dataArgs[\"n_max\"], dataArgs[\"n_features\"]))\n",
    "    print(\"feature_dependence:\",dataArgs[\"feature_dependence\"] )\n",
    "    \n",
    "    \n",
    "    ## Generate Graph Data_______________________________\n",
    "\n",
    "    for i in tqdm(range(0,dataArgs[\"n_graphs\"])):\n",
    "        \n",
    "        ## Generate Graph Type ______________________________________________\n",
    "\n",
    "        if dataArgs[\"fix_n\"] == True:\n",
    "            n = dataArgs[\"n_max\"] # generate fixed number of nodes n_max\n",
    "        else:\n",
    "            n = random.randint(1, dataArgs[\"n_max\"]) # generate number of nodes n between 1 and n_max and\n",
    "\n",
    "            \n",
    "        p = np.random.rand(1)  # float in range 0 - 1 \n",
    "        g = get_graph(n, p, draw = False)\n",
    "                     \n",
    "        #nx.draw(g, cmap=plt.get_cmap('PuBu'), node_color=np.squeeze(f), font_color='white')\n",
    "        #plt.show()\n",
    "        \n",
    "        g, a = sort_adj(g)\n",
    "        a = pad_matrix(a, dataArgs[\"n_max\"], dataArgs[\"diag_value\"])  # pad adjacency matrix to allow less nodes than n_max and fill diagonal        \n",
    "        a_transformed = reshape_A(a, diag_offset = dataArgs[\"diag_offset\"])\n",
    "        \n",
    "        \n",
    "        ## Generate / Load Node Features ______________________________________________\n",
    "        f = generate_features(dataArgs, g, n, p)\n",
    "        \n",
    "        ## pad features with zeroes\n",
    "        f = pad_attr(f, dataArgs)\n",
    "\n",
    "        \n",
    "        ## Build Data Arrays___________________________________________________\n",
    "\n",
    "        F[i] = f\n",
    "        G[i] = a_transformed\n",
    "\n",
    "\n",
    "    ## Input and Output Size ___________________________________________________________\n",
    "\n",
    "    input_shape, output_shape = prepare_in_out(dataArgs[\"diag_offset\"], calculate_A_shape(dataArgs[\"n_max\"], dataArgs[\"diag_offset\"]), F.shape)\n",
    "    print(\"input_shape:\", input_shape, \", output_shape:\", output_shape)\n",
    "    \n",
    "    ## scale features in F for smoother training\n",
    "    #scaler = MinMaxScaler()\n",
    "    #scaler.fit(F)\n",
    "    #F = scaler.transform(F)\n",
    "    \n",
    "    return G, F, input_shape,output_shape\n",
    "    \n",
    "dataArgs = {\"n_graphs\": 10000, \"n_max\": 10, \"feature_dependence\": \"degree\", \"fix_n\": False, \"diag_offset\": -2, \"diag_value\": 1, \"clip\": True, \"n_features\": 1}  #\"diag_offset\" - 1 == full adjacency\n",
    "G, F, input_shape, output_shape = generate_data(dataArgs)"
   ]
  },
  {
   "cell_type": "markdown",
   "metadata": {},
   "source": [
    "## Data Imputation"
   ]
  },
  {
   "cell_type": "code",
   "execution_count": 17,
   "metadata": {
    "code_folding": []
   },
   "outputs": [],
   "source": [
    "def imput_data(imputeArgs, modelArgs, dataArgs, G, F):\n",
    "        \n",
    "    G_imputed = np.copy(G)\n",
    "    F_imputed = np.copy(F)\n",
    "    \n",
    "    if imputeArgs[\"impute\"] == \"features\":\n",
    "        \n",
    "        for i, (g,f) in enumerate(zip(G_imputed, F_imputed)):\n",
    "            \n",
    "            f = np.squeeze(f)\n",
    "            num_features = len(f[f > 0])\n",
    "            impute_num = int(imputeArgs[\"impute_frac\"] * num_features)\n",
    "            impute_f_ind = random.sample(range(num_features), impute_num)  ## impute features\n",
    "\n",
    "            row, col = np.diag_indices(f.shape[0])\n",
    "\n",
    "            f[impute_f_ind] = imputeArgs[\"impute_value\"]  ## replace features\n",
    "            F_imputed[i] = np.reshape(f,(f.shape[-1], 1))\n",
    "        \n",
    "        \n",
    "    \n",
    "    if imputeArgs[\"impute\"] == \"structure\":\n",
    "    \n",
    "        for i, (g,f) in enumerate(zip(G_imputed, F_imputed)):\n",
    "                        \n",
    "            f = np.squeeze(f)            \n",
    "            num_nodes = len(f[f > 0])\n",
    "            impute_num = int(imputeArgs[\"impute_frac\"] * num_nodes)\n",
    "            impute_n_ind = random.sample(range(num_nodes), impute_num)  ## impute nodes\n",
    "            \n",
    "            ## remove edges of imputed nodes\n",
    "            for impute_n in impute_n_ind:\n",
    "                \n",
    "                ## remove rows\n",
    "                g[impute_n,:impute_n] = 0\n",
    "                g[impute_n,impute_n+1:] = 0\n",
    "                \n",
    "                ## remove columns\n",
    "                g[:impute_n,impute_n] = 0\n",
    "                g[impute_n+1:,impute_n] = 0\n",
    "\n",
    "            G_imputed[i] = g\n",
    "        \n",
    "    return G_imputed, F_imputed"
   ]
  },
  {
   "cell_type": "markdown",
   "metadata": {},
   "source": [
    "# beta-VAE Model"
   ]
  },
  {
   "cell_type": "code",
   "execution_count": 18,
   "metadata": {
    "code_folding": []
   },
   "outputs": [],
   "source": [
    "## Model Setup\n",
    "from __future__ import absolute_import\n",
    "from __future__ import division\n",
    "from __future__ import print_function\n",
    "\n",
    "## Keras\n",
    "from keras.layers import Lambda, Input, Dense, Conv2D, Conv2DTranspose, Flatten, Reshape, Dropout, Activation, concatenate\n",
    "from keras.models import Model\n",
    "from keras.callbacks import EarlyStopping, ModelCheckpoint\n",
    "from keras.losses import mse, binary_crossentropy\n",
    "from keras.utils import plot_model\n",
    "from keras import backend as K\n",
    "import tensorflow as tf\n",
    "\n",
    "from sklearn.model_selection import train_test_split\n",
    "from support.keras_dgl.utils import *\n",
    "from support.keras_dgl.layers import MultiGraphCNN\n",
    "\n",
    "\n",
    "class VAE():\n",
    "\n",
    "    # reparameterization trick\n",
    "    # instead of sampling from Q(z|X), sample eps = N(0,I)\n",
    "    # then z = z_mean + sqrt(var)*eps\n",
    "\n",
    "    def sampling(self, args):\n",
    "        \"\"\"Reparameterization trick by sampling fr an isotropic unit Gaussian.\n",
    "        # Arguments\n",
    "            args (tensor): mean and log of variance of Q(z|X)\n",
    "        # Returns\n",
    "            z (tensor): sampled latent vector\n",
    "        \"\"\"\n",
    "\n",
    "        z_mean, z_log_var = args\n",
    "        batch = K.shape(z_mean)[0]\n",
    "        dim = K.int_shape(z_mean)[1]\n",
    "        # by default, random_normal has mean=0 and std=1.0\n",
    "        epsilon = K.random_normal(shape=(batch, dim))\n",
    "        return z_mean + K.exp(0.5 * z_log_var) * epsilon\n",
    "\n",
    "    \n",
    "    \n",
    "    def __init__(self, modelArgs, trainArgs, g_train, g_train_mod_imputed, g_test, g_test_mod_imputed, f_train, f_train_imputed, f_test, f_test_imputed):\n",
    "\n",
    "        ## MODEL ______________________________________________________________       \n",
    "            \n",
    "        ## Graph Neural Network Architecture __________________________________\n",
    "            \n",
    "        ## 1) build encoder model____________________________________\n",
    "\n",
    "        # build graph_conv_filters\n",
    "        SYM_NORM = True\n",
    "        num_filters = 2\n",
    "        print(\"g_train shape:\", g_train.shape)\n",
    "        graph_conv_filters = preprocess_adj_tensor_with_identity(np.squeeze(g_train), SYM_NORM)\n",
    "\n",
    "        # build model\n",
    "        X_input = Input(shape=(f_train.shape[1], f_train.shape[2]))\n",
    "        graph_conv_filters_input = Input(shape=(graph_conv_filters.shape[1], graph_conv_filters.shape[2]))\n",
    "\n",
    "        # define inputs of features and graph topologies\n",
    "        inputs = [X_input, graph_conv_filters_input]\n",
    "\n",
    "        x = MultiGraphCNN(100, num_filters, activation='elu')([X_input, graph_conv_filters_input])\n",
    "        x = Dropout(0.2)(x)\n",
    "        x = MultiGraphCNN(100, num_filters, activation='elu')([x, graph_conv_filters_input])\n",
    "        x = Dropout(0.2)(x)\n",
    "        x = Lambda(lambda x: K.mean(x, axis=1))(x)  # adding a node invariant layer to make sure output does not depends upon the node order in a graph.\n",
    "        z_mean = Dense(modelArgs[\"latent_dim\"], name='z_mean')(x)\n",
    "        z_log_var = Dense(modelArgs[\"latent_dim\"], name='z_log_var')(x)\n",
    "\n",
    "        # use reparameterization trick to push the sampling out as input\n",
    "        # note that \"output_shape\" isn't necessary with the TensorFlow backend\n",
    "        z = Lambda(self.sampling, output_shape=(modelArgs[\"latent_dim\"],), name='z')([z_mean, z_log_var])\n",
    "\n",
    "\n",
    "        ## 2.1) build topology decoder model __________________________\n",
    "\n",
    "        ## shape info needed to build decoder model\n",
    "        inputs_2D_encoder = Input(shape=modelArgs[\"input_shape\"][1], name='encoder_input')\n",
    "        x_2D = inputs_2D_encoder\n",
    "        for i in range(2):\n",
    "            modelArgs['filters'] *= 2\n",
    "            x_2D = Conv2D(filters=modelArgs['filters'], kernel_size=modelArgs['kernel_size'], activation='relu',strides=2, padding='same')(x_2D)\n",
    "        shape_2D = K.int_shape(x_2D)\n",
    "\n",
    "        latent_inputs = Input(shape=(modelArgs[\"latent_dim\"],), name='z_sampling')\n",
    "        x_2D = Dense(shape_2D[1] * shape_2D[2] * shape_2D[3], activation='relu')(latent_inputs)\n",
    "        x_2D = Reshape((shape_2D[1], shape_2D[2], shape_2D[3]))(x_2D)\n",
    "\n",
    "        for i in range(2):\n",
    "            x_2D = Conv2DTranspose(filters=modelArgs['filters'], kernel_size=modelArgs['kernel_size'],activation='relu', strides=2, padding='same')(x_2D)\n",
    "            modelArgs['filters'] //= 2\n",
    "\n",
    "        topol_output = Conv2DTranspose(filters=1, kernel_size=modelArgs['kernel_size'], activation='sigmoid',padding='same', name='decoder_output')(x_2D)\n",
    "\n",
    "\n",
    "        ## 2.2) build attribute decoder model __________________________\n",
    "\n",
    "        y = Dense(4, activation='linear')(latent_inputs)\n",
    "        y = Dense(10, activation='linear')(latent_inputs)\n",
    "        y = Dense(modelArgs[\"output_shape\"][0][0], activation='sigmoid')(y)\n",
    "        attr_output = Reshape(modelArgs[\"output_shape\"][0])(y)\n",
    "\n",
    "     \n",
    "    \n",
    "        ## INSTANTIATE___________________________________\n",
    "\n",
    "        encoder = Model(inputs, [z_mean, z_log_var, z], name='encoder')\n",
    "        encoder.summary()\n",
    "\n",
    "        ## 2.1) instantiate topology decoder model\n",
    "        topol_decoder = Model(latent_inputs, topol_output, name='topol_decoder')\n",
    "        topol_decoder.summary()\n",
    "        \n",
    "        ## 2.2) instantiate feature decoder model\n",
    "        attr_decoder = Model(latent_inputs, attr_output, name='attr_decoder')\n",
    "        attr_decoder.summary()\n",
    "\n",
    "        \n",
    "        ## 3) instantiate VAE model\n",
    "        attr_outputs = topol_decoder(encoder(inputs)[2])\n",
    "        topol_outputs = attr_decoder(encoder(inputs)[2])\n",
    "        vae = Model(inputs, [attr_outputs, topol_outputs], name='vae')\n",
    "\n",
    "    \n",
    "\n",
    "        ## LOSS FUNCTIONS ______________________________________\n",
    "        \n",
    "        def attr_loss_func(y_true, y_pred):\n",
    "\n",
    "            ## RECONSTRUCTION LOSS_______________________            \n",
    "            ## mean squared error\n",
    "            attr_reconstruction_loss = mse(K.flatten(y_true), K.flatten(y_pred))\n",
    "            attr_reconstruction_loss *= modelArgs[\"input_shape\"][0][0]\n",
    "                            \n",
    "            ## KL LOSS _____________________________________________\n",
    "\n",
    "            kl_loss = 1 + z_log_var - K.square(z_mean) - K.exp(z_log_var)\n",
    "            kl_loss = K.sum(kl_loss, axis=-1)\n",
    "            kl_loss *= -0.5\n",
    "\n",
    "            ## COMPLETE LOSS __________________________________________________\n",
    "\n",
    "            #loss = K.mean(attr_reconstruction_loss + (trainArgs[\"beta\"] * kl_loss))\n",
    "            loss = K.mean(attr_reconstruction_loss)\n",
    "            \n",
    "            return loss\n",
    "        \n",
    "        \n",
    "        \n",
    "        def topol_loss_func(y_true, y_pred):\n",
    "            \n",
    "            ## RECONSTRUCTION LOSS_______________________\n",
    "            ## binary cross-entropy\n",
    "            topol_reconstruction_loss = binary_crossentropy(K.flatten(y_true), K.flatten(y_pred))\n",
    "            topol_reconstruction_loss *= (modelArgs[\"input_shape\"][1][0] * modelArgs[\"input_shape\"][1][1])\n",
    "                            \n",
    "            ## KL LOSS _____________________________________________\n",
    "\n",
    "            kl_loss = 1 + z_log_var - K.square(z_mean) - K.exp(z_log_var)\n",
    "            kl_loss = K.sum(kl_loss, axis=-1)\n",
    "            kl_loss *= -0.5\n",
    "\n",
    "            ## COMPLETE LOSS __________________________________________________\n",
    "\n",
    "            loss = K.mean(topol_reconstruction_loss + (trainArgs[\"beta\"] * kl_loss))\n",
    "\n",
    "            return loss\n",
    "        \n",
    "    \n",
    "        ## MODEL COMPILE______________________________________________\n",
    "        \n",
    "        vae.compile(optimizer='adam', loss={\"attr_decoder\": attr_loss_func, \"topol_decoder\": topol_loss_func})\n",
    "        vae.summary()\n",
    "        \n",
    "\n",
    "        ## TRAIN______________________________________________\n",
    "\n",
    "        # load the autoencoder weights\n",
    "\n",
    "        if trainArgs[\"weights\"] == \"load\":\n",
    "\n",
    "            vae.load_weights(\"models/weights/vae_mlp_mnist_latent_dim_\" + str(modelArgs[\"latent_dim\"]) + \".h5\")\n",
    "\n",
    "        # train the autoencoder\n",
    "\n",
    "        elif trainArgs[\"weights\"] == \"train\":\n",
    "\n",
    "            # Set callback functions to early stop training and save the best model so far\n",
    "            callbacks = [EarlyStopping(monitor='val_loss', patience=trainArgs[\"early_stop\"]), ModelCheckpoint(filepath=\"models/weights/vae_mlp_mnist_latent_dim_\" + str(modelArgs[\"latent_dim\"]) + \".h5\",save_best_only=True)]\n",
    "           \n",
    "            vae.fit(x = [f_train_imputed, g_train_mod_imputed], y= {\"attr_decoder\": f_train, \"topol_decoder\": g_train}, epochs=trainArgs[\"epochs\"], batch_size=trainArgs[\"batch_size\"], callbacks=callbacks, validation_data = ([f_test_imputed, g_test_mod_imputed], {\"attr_decoder\": f_test, \"topol_decoder\": g_test}))\n",
    "            vae.save_weights(\"models/weights/vae_mlp_mnist_latent_dim_\" + str(modelArgs[\"latent_dim\"]) + \".h5\")\n",
    "            \n",
    "            self.model = (encoder, topol_decoder, attr_decoder)"
   ]
  },
  {
   "cell_type": "markdown",
   "metadata": {},
   "source": [
    "### Data Split and Impute"
   ]
  },
  {
   "cell_type": "code",
   "execution_count": 15,
   "metadata": {},
   "outputs": [],
   "source": [
    "trainArgs = {\"beta\": 1, \"loss\": \"mse\", \"weights\": \"train\", \"early_stop\": 1, \"batch_size\": 256, \"epochs\": 50, \"data_split\": 0.2}\n",
    "modelArgs = {\"nn_architecture\": \"gnn\", \"latent_dim\": 2, \"filters\": 16, \"kernel_size\": 3, \"input_shape\": input_shape, \"output_shape\": output_shape, \"param_loss\": False,}\n",
    "imputeArgs = {\"impute\": \"features\", \"impute_frac\": 1.0, \"impute_value\": 0.0, }\n",
    "\n",
    "from support.keras_dgl.utils import *\n",
    "from support.keras_dgl.layers import MultiGraphCNN\n",
    "\n",
    "## Train and Validation Split _______________________________________________\n",
    "g_train, g_test, f_train, f_test = train_test_split(G, F, test_size=trainArgs[\"data_split\"], random_state=1, shuffle=True)\n",
    "\n",
    "## impute the data\n",
    "g_train_imputed, f_train_imputed = imput_data(imputeArgs, modelArgs, dataArgs, g_train, f_train)\n",
    "g_test_imputed, f_test_imputed = imput_data(imputeArgs, modelArgs, dataArgs, g_test, f_test)\n",
    "\n",
    "# build graph_conv_filters\n",
    "SYM_NORM = True\n",
    "g_train_mod_imputed = preprocess_adj_tensor_with_identity(np.squeeze(g_train_imputed), SYM_NORM)\n",
    "g_test_mod_imputed = preprocess_adj_tensor_with_identity(np.squeeze(g_test_imputed), SYM_NORM)\n",
    "\n",
    "data = (f_test_imputed, [g_test_mod_imputed, g_test])"
   ]
  },
  {
   "cell_type": "code",
   "execution_count": 16,
   "metadata": {
    "code_folding": []
   },
   "outputs": [
    {
     "name": "stdout",
     "output_type": "stream",
     "text": [
      "g_train shape: (8000, 10, 10, 1)\n",
      "__________________________________________________________________________________________________\n",
      "Layer (type)                    Output Shape         Param #     Connected to                     \n",
      "==================================================================================================\n",
      "input_5 (InputLayer)            (None, 10, 1)        0                                            \n",
      "__________________________________________________________________________________________________\n",
      "input_6 (InputLayer)            (None, 20, 10)       0                                            \n",
      "__________________________________________________________________________________________________\n",
      "multi_graph_cnn_5 (MultiGraphCN (None, 10, 100)      300         input_5[0][0]                    \n",
      "                                                                 input_6[0][0]                    \n",
      "__________________________________________________________________________________________________\n",
      "dropout_5 (Dropout)             (None, 10, 100)      0           multi_graph_cnn_5[0][0]          \n",
      "__________________________________________________________________________________________________\n",
      "multi_graph_cnn_6 (MultiGraphCN (None, 10, 100)      20100       dropout_5[0][0]                  \n",
      "                                                                 input_6[0][0]                    \n",
      "__________________________________________________________________________________________________\n",
      "dropout_6 (Dropout)             (None, 10, 100)      0           multi_graph_cnn_6[0][0]          \n",
      "__________________________________________________________________________________________________\n",
      "lambda_3 (Lambda)               (None, 100)          0           dropout_6[0][0]                  \n",
      "__________________________________________________________________________________________________\n",
      "z_mean (Dense)                  (None, 2)            202         lambda_3[0][0]                   \n",
      "__________________________________________________________________________________________________\n",
      "z_log_var (Dense)               (None, 2)            202         lambda_3[0][0]                   \n",
      "__________________________________________________________________________________________________\n",
      "z (Lambda)                      (None, 2)            0           z_mean[0][0]                     \n",
      "                                                                 z_log_var[0][0]                  \n",
      "==================================================================================================\n",
      "Total params: 20,804\n",
      "Trainable params: 20,804\n",
      "Non-trainable params: 0\n",
      "__________________________________________________________________________________________________\n",
      "_________________________________________________________________\n",
      "Layer (type)                 Output Shape              Param #   \n",
      "=================================================================\n",
      "z_sampling (InputLayer)      (None, 2)                 0         \n",
      "_________________________________________________________________\n",
      "dense_9 (Dense)              (None, 576)               1728      \n",
      "_________________________________________________________________\n",
      "reshape_5 (Reshape)          (None, 3, 3, 64)          0         \n",
      "_________________________________________________________________\n",
      "conv2d_transpose_5 (Conv2DTr (None, 6, 6, 64)          36928     \n",
      "_________________________________________________________________\n",
      "conv2d_transpose_6 (Conv2DTr (None, 12, 12, 32)        18464     \n",
      "_________________________________________________________________\n",
      "decoder_output (Conv2DTransp (None, 12, 12, 1)         289       \n",
      "=================================================================\n",
      "Total params: 57,409\n",
      "Trainable params: 57,409\n",
      "Non-trainable params: 0\n",
      "_________________________________________________________________\n",
      "_________________________________________________________________\n",
      "Layer (type)                 Output Shape              Param #   \n",
      "=================================================================\n",
      "z_sampling (InputLayer)      (None, 2)                 0         \n",
      "_________________________________________________________________\n",
      "dense_11 (Dense)             (None, 10)                30        \n",
      "_________________________________________________________________\n",
      "dense_12 (Dense)             (None, 10)                110       \n",
      "_________________________________________________________________\n",
      "reshape_6 (Reshape)          (None, 10, 1)             0         \n",
      "=================================================================\n",
      "Total params: 140\n",
      "Trainable params: 140\n",
      "Non-trainable params: 0\n",
      "_________________________________________________________________\n",
      "__________________________________________________________________________________________________\n",
      "Layer (type)                    Output Shape         Param #     Connected to                     \n",
      "==================================================================================================\n",
      "input_5 (InputLayer)            (None, 10, 1)        0                                            \n",
      "__________________________________________________________________________________________________\n",
      "input_6 (InputLayer)            (None, 20, 10)       0                                            \n",
      "__________________________________________________________________________________________________\n",
      "encoder (Model)                 [(None, 2), (None, 2 20804       input_5[0][0]                    \n",
      "                                                                 input_6[0][0]                    \n",
      "                                                                 input_5[0][0]                    \n",
      "                                                                 input_6[0][0]                    \n",
      "__________________________________________________________________________________________________\n",
      "topol_decoder (Model)           (None, 12, 12, 1)    57409       encoder[1][2]                    \n",
      "__________________________________________________________________________________________________\n",
      "attr_decoder (Model)            (None, 10, 1)        140         encoder[2][2]                    \n",
      "==================================================================================================\n",
      "Total params: 78,353\n",
      "Trainable params: 78,353\n",
      "Non-trainable params: 0\n",
      "__________________________________________________________________________________________________\n",
      "Train on 8000 samples, validate on 2000 samples\n",
      "Epoch 1/50\n"
     ]
    },
    {
     "ename": "InvalidArgumentError",
     "evalue": "Incompatible shapes: [36864] vs. [25600]\n\t [[{{node loss_2/topol_decoder_loss/logistic_loss/mul}}]]",
     "output_type": "error",
     "traceback": [
      "\u001b[0;31m---------------------------------------------------------------------------\u001b[0m",
      "\u001b[0;31mInvalidArgumentError\u001b[0m                      Traceback (most recent call last)",
      "\u001b[0;32m<ipython-input-16-54bbb257aefa>\u001b[0m in \u001b[0;36m<module>\u001b[0;34m\u001b[0m\n\u001b[0;32m----> 1\u001b[0;31m \u001b[0mvae\u001b[0m \u001b[0;34m=\u001b[0m \u001b[0mVAE\u001b[0m\u001b[0;34m(\u001b[0m\u001b[0mmodelArgs\u001b[0m\u001b[0;34m,\u001b[0m \u001b[0mtrainArgs\u001b[0m\u001b[0;34m,\u001b[0m \u001b[0mg_train\u001b[0m\u001b[0;34m,\u001b[0m \u001b[0mg_train_mod_imputed\u001b[0m\u001b[0;34m,\u001b[0m \u001b[0mg_test\u001b[0m\u001b[0;34m,\u001b[0m \u001b[0mg_test_mod_imputed\u001b[0m\u001b[0;34m,\u001b[0m \u001b[0mf_train\u001b[0m\u001b[0;34m,\u001b[0m \u001b[0mf_train_imputed\u001b[0m\u001b[0;34m,\u001b[0m \u001b[0mf_test\u001b[0m\u001b[0;34m,\u001b[0m \u001b[0mf_test_imputed\u001b[0m\u001b[0;34m)\u001b[0m\u001b[0;34m\u001b[0m\u001b[0;34m\u001b[0m\u001b[0m\n\u001b[0m\u001b[1;32m      2\u001b[0m \u001b[0;34m\u001b[0m\u001b[0m\n\u001b[1;32m      3\u001b[0m \u001b[0mmodels\u001b[0m \u001b[0;34m=\u001b[0m \u001b[0mvae\u001b[0m\u001b[0;34m.\u001b[0m\u001b[0mmodel\u001b[0m\u001b[0;34m\u001b[0m\u001b[0;34m\u001b[0m\u001b[0m\n",
      "\u001b[0;32m<ipython-input-14-18aca398f4e9>\u001b[0m in \u001b[0;36m__init__\u001b[0;34m(self, modelArgs, trainArgs, g_train, g_train_mod_imputed, g_test, g_test_mod_imputed, f_train, f_train_imputed, f_test, f_test_imputed)\u001b[0m\n\u001b[1;32m    191\u001b[0m             \u001b[0mcallbacks\u001b[0m \u001b[0;34m=\u001b[0m \u001b[0;34m[\u001b[0m\u001b[0mEarlyStopping\u001b[0m\u001b[0;34m(\u001b[0m\u001b[0mmonitor\u001b[0m\u001b[0;34m=\u001b[0m\u001b[0;34m'val_loss'\u001b[0m\u001b[0;34m,\u001b[0m \u001b[0mpatience\u001b[0m\u001b[0;34m=\u001b[0m\u001b[0mtrainArgs\u001b[0m\u001b[0;34m[\u001b[0m\u001b[0;34m\"early_stop\"\u001b[0m\u001b[0;34m]\u001b[0m\u001b[0;34m)\u001b[0m\u001b[0;34m,\u001b[0m \u001b[0mModelCheckpoint\u001b[0m\u001b[0;34m(\u001b[0m\u001b[0mfilepath\u001b[0m\u001b[0;34m=\u001b[0m\u001b[0;34m\"models/weights/vae_mlp_mnist_latent_dim_\"\u001b[0m \u001b[0;34m+\u001b[0m \u001b[0mstr\u001b[0m\u001b[0;34m(\u001b[0m\u001b[0mmodelArgs\u001b[0m\u001b[0;34m[\u001b[0m\u001b[0;34m\"latent_dim\"\u001b[0m\u001b[0;34m]\u001b[0m\u001b[0;34m)\u001b[0m \u001b[0;34m+\u001b[0m \u001b[0;34m\".h5\"\u001b[0m\u001b[0;34m,\u001b[0m\u001b[0msave_best_only\u001b[0m\u001b[0;34m=\u001b[0m\u001b[0;32mTrue\u001b[0m\u001b[0;34m)\u001b[0m\u001b[0;34m]\u001b[0m\u001b[0;34m\u001b[0m\u001b[0;34m\u001b[0m\u001b[0m\n\u001b[1;32m    192\u001b[0m \u001b[0;34m\u001b[0m\u001b[0m\n\u001b[0;32m--> 193\u001b[0;31m             \u001b[0mvae\u001b[0m\u001b[0;34m.\u001b[0m\u001b[0mfit\u001b[0m\u001b[0;34m(\u001b[0m\u001b[0mx\u001b[0m \u001b[0;34m=\u001b[0m \u001b[0;34m[\u001b[0m\u001b[0mf_train_imputed\u001b[0m\u001b[0;34m,\u001b[0m \u001b[0mg_train_mod_imputed\u001b[0m\u001b[0;34m]\u001b[0m\u001b[0;34m,\u001b[0m \u001b[0my\u001b[0m\u001b[0;34m=\u001b[0m \u001b[0;34m{\u001b[0m\u001b[0;34m\"attr_decoder\"\u001b[0m\u001b[0;34m:\u001b[0m \u001b[0mf_train\u001b[0m\u001b[0;34m,\u001b[0m \u001b[0;34m\"topol_decoder\"\u001b[0m\u001b[0;34m:\u001b[0m \u001b[0mg_train\u001b[0m\u001b[0;34m}\u001b[0m\u001b[0;34m,\u001b[0m \u001b[0mepochs\u001b[0m\u001b[0;34m=\u001b[0m\u001b[0mtrainArgs\u001b[0m\u001b[0;34m[\u001b[0m\u001b[0;34m\"epochs\"\u001b[0m\u001b[0;34m]\u001b[0m\u001b[0;34m,\u001b[0m \u001b[0mbatch_size\u001b[0m\u001b[0;34m=\u001b[0m\u001b[0mtrainArgs\u001b[0m\u001b[0;34m[\u001b[0m\u001b[0;34m\"batch_size\"\u001b[0m\u001b[0;34m]\u001b[0m\u001b[0;34m,\u001b[0m \u001b[0mcallbacks\u001b[0m\u001b[0;34m=\u001b[0m\u001b[0mcallbacks\u001b[0m\u001b[0;34m,\u001b[0m \u001b[0mvalidation_data\u001b[0m \u001b[0;34m=\u001b[0m \u001b[0;34m(\u001b[0m\u001b[0;34m[\u001b[0m\u001b[0mf_test_imputed\u001b[0m\u001b[0;34m,\u001b[0m \u001b[0mg_test_mod_imputed\u001b[0m\u001b[0;34m]\u001b[0m\u001b[0;34m,\u001b[0m \u001b[0;34m{\u001b[0m\u001b[0;34m\"attr_decoder\"\u001b[0m\u001b[0;34m:\u001b[0m \u001b[0mf_test\u001b[0m\u001b[0;34m,\u001b[0m \u001b[0;34m\"topol_decoder\"\u001b[0m\u001b[0;34m:\u001b[0m \u001b[0mg_test\u001b[0m\u001b[0;34m}\u001b[0m\u001b[0;34m)\u001b[0m\u001b[0;34m)\u001b[0m\u001b[0;34m\u001b[0m\u001b[0;34m\u001b[0m\u001b[0m\n\u001b[0m\u001b[1;32m    194\u001b[0m             \u001b[0mvae\u001b[0m\u001b[0;34m.\u001b[0m\u001b[0msave_weights\u001b[0m\u001b[0;34m(\u001b[0m\u001b[0;34m\"models/weights/vae_mlp_mnist_latent_dim_\"\u001b[0m \u001b[0;34m+\u001b[0m \u001b[0mstr\u001b[0m\u001b[0;34m(\u001b[0m\u001b[0mmodelArgs\u001b[0m\u001b[0;34m[\u001b[0m\u001b[0;34m\"latent_dim\"\u001b[0m\u001b[0;34m]\u001b[0m\u001b[0;34m)\u001b[0m \u001b[0;34m+\u001b[0m \u001b[0;34m\".h5\"\u001b[0m\u001b[0;34m)\u001b[0m\u001b[0;34m\u001b[0m\u001b[0;34m\u001b[0m\u001b[0m\n\u001b[1;32m    195\u001b[0m \u001b[0;34m\u001b[0m\u001b[0m\n",
      "\u001b[0;32m/usr/local/lib/python3.7/site-packages/keras/engine/training.py\u001b[0m in \u001b[0;36mfit\u001b[0;34m(self, x, y, batch_size, epochs, verbose, callbacks, validation_split, validation_data, shuffle, class_weight, sample_weight, initial_epoch, steps_per_epoch, validation_steps, **kwargs)\u001b[0m\n\u001b[1;32m   1035\u001b[0m                                         \u001b[0minitial_epoch\u001b[0m\u001b[0;34m=\u001b[0m\u001b[0minitial_epoch\u001b[0m\u001b[0;34m,\u001b[0m\u001b[0;34m\u001b[0m\u001b[0;34m\u001b[0m\u001b[0m\n\u001b[1;32m   1036\u001b[0m                                         \u001b[0msteps_per_epoch\u001b[0m\u001b[0;34m=\u001b[0m\u001b[0msteps_per_epoch\u001b[0m\u001b[0;34m,\u001b[0m\u001b[0;34m\u001b[0m\u001b[0;34m\u001b[0m\u001b[0m\n\u001b[0;32m-> 1037\u001b[0;31m                                         validation_steps=validation_steps)\n\u001b[0m\u001b[1;32m   1038\u001b[0m \u001b[0;34m\u001b[0m\u001b[0m\n\u001b[1;32m   1039\u001b[0m     def evaluate(self, x=None, y=None,\n",
      "\u001b[0;32m/usr/local/lib/python3.7/site-packages/keras/engine/training_arrays.py\u001b[0m in \u001b[0;36mfit_loop\u001b[0;34m(model, f, ins, out_labels, batch_size, epochs, verbose, callbacks, val_f, val_ins, shuffle, callback_metrics, initial_epoch, steps_per_epoch, validation_steps)\u001b[0m\n\u001b[1;32m    197\u001b[0m                     \u001b[0mins_batch\u001b[0m\u001b[0;34m[\u001b[0m\u001b[0mi\u001b[0m\u001b[0;34m]\u001b[0m \u001b[0;34m=\u001b[0m \u001b[0mins_batch\u001b[0m\u001b[0;34m[\u001b[0m\u001b[0mi\u001b[0m\u001b[0;34m]\u001b[0m\u001b[0;34m.\u001b[0m\u001b[0mtoarray\u001b[0m\u001b[0;34m(\u001b[0m\u001b[0;34m)\u001b[0m\u001b[0;34m\u001b[0m\u001b[0;34m\u001b[0m\u001b[0m\n\u001b[1;32m    198\u001b[0m \u001b[0;34m\u001b[0m\u001b[0m\n\u001b[0;32m--> 199\u001b[0;31m                 \u001b[0mouts\u001b[0m \u001b[0;34m=\u001b[0m \u001b[0mf\u001b[0m\u001b[0;34m(\u001b[0m\u001b[0mins_batch\u001b[0m\u001b[0;34m)\u001b[0m\u001b[0;34m\u001b[0m\u001b[0;34m\u001b[0m\u001b[0m\n\u001b[0m\u001b[1;32m    200\u001b[0m                 \u001b[0mouts\u001b[0m \u001b[0;34m=\u001b[0m \u001b[0mto_list\u001b[0m\u001b[0;34m(\u001b[0m\u001b[0mouts\u001b[0m\u001b[0;34m)\u001b[0m\u001b[0;34m\u001b[0m\u001b[0;34m\u001b[0m\u001b[0m\n\u001b[1;32m    201\u001b[0m                 \u001b[0;32mfor\u001b[0m \u001b[0ml\u001b[0m\u001b[0;34m,\u001b[0m \u001b[0mo\u001b[0m \u001b[0;32min\u001b[0m \u001b[0mzip\u001b[0m\u001b[0;34m(\u001b[0m\u001b[0mout_labels\u001b[0m\u001b[0;34m,\u001b[0m \u001b[0mouts\u001b[0m\u001b[0;34m)\u001b[0m\u001b[0;34m:\u001b[0m\u001b[0;34m\u001b[0m\u001b[0;34m\u001b[0m\u001b[0m\n",
      "\u001b[0;32m/usr/local/lib/python3.7/site-packages/keras/backend/tensorflow_backend.py\u001b[0m in \u001b[0;36m__call__\u001b[0;34m(self, inputs)\u001b[0m\n\u001b[1;32m   2664\u001b[0m                 \u001b[0;32mreturn\u001b[0m \u001b[0mself\u001b[0m\u001b[0;34m.\u001b[0m\u001b[0m_legacy_call\u001b[0m\u001b[0;34m(\u001b[0m\u001b[0minputs\u001b[0m\u001b[0;34m)\u001b[0m\u001b[0;34m\u001b[0m\u001b[0;34m\u001b[0m\u001b[0m\n\u001b[1;32m   2665\u001b[0m \u001b[0;34m\u001b[0m\u001b[0m\n\u001b[0;32m-> 2666\u001b[0;31m             \u001b[0;32mreturn\u001b[0m \u001b[0mself\u001b[0m\u001b[0;34m.\u001b[0m\u001b[0m_call\u001b[0m\u001b[0;34m(\u001b[0m\u001b[0minputs\u001b[0m\u001b[0;34m)\u001b[0m\u001b[0;34m\u001b[0m\u001b[0;34m\u001b[0m\u001b[0m\n\u001b[0m\u001b[1;32m   2667\u001b[0m         \u001b[0;32melse\u001b[0m\u001b[0;34m:\u001b[0m\u001b[0;34m\u001b[0m\u001b[0;34m\u001b[0m\u001b[0m\n\u001b[1;32m   2668\u001b[0m             \u001b[0;32mif\u001b[0m \u001b[0mpy_any\u001b[0m\u001b[0;34m(\u001b[0m\u001b[0mis_tensor\u001b[0m\u001b[0;34m(\u001b[0m\u001b[0mx\u001b[0m\u001b[0;34m)\u001b[0m \u001b[0;32mfor\u001b[0m \u001b[0mx\u001b[0m \u001b[0;32min\u001b[0m \u001b[0minputs\u001b[0m\u001b[0;34m)\u001b[0m\u001b[0;34m:\u001b[0m\u001b[0;34m\u001b[0m\u001b[0;34m\u001b[0m\u001b[0m\n",
      "\u001b[0;32m/usr/local/lib/python3.7/site-packages/keras/backend/tensorflow_backend.py\u001b[0m in \u001b[0;36m_call\u001b[0;34m(self, inputs)\u001b[0m\n\u001b[1;32m   2634\u001b[0m                                 \u001b[0msymbol_vals\u001b[0m\u001b[0;34m,\u001b[0m\u001b[0;34m\u001b[0m\u001b[0;34m\u001b[0m\u001b[0m\n\u001b[1;32m   2635\u001b[0m                                 session)\n\u001b[0;32m-> 2636\u001b[0;31m         \u001b[0mfetched\u001b[0m \u001b[0;34m=\u001b[0m \u001b[0mself\u001b[0m\u001b[0;34m.\u001b[0m\u001b[0m_callable_fn\u001b[0m\u001b[0;34m(\u001b[0m\u001b[0;34m*\u001b[0m\u001b[0marray_vals\u001b[0m\u001b[0;34m)\u001b[0m\u001b[0;34m\u001b[0m\u001b[0;34m\u001b[0m\u001b[0m\n\u001b[0m\u001b[1;32m   2637\u001b[0m         \u001b[0;32mreturn\u001b[0m \u001b[0mfetched\u001b[0m\u001b[0;34m[\u001b[0m\u001b[0;34m:\u001b[0m\u001b[0mlen\u001b[0m\u001b[0;34m(\u001b[0m\u001b[0mself\u001b[0m\u001b[0;34m.\u001b[0m\u001b[0moutputs\u001b[0m\u001b[0;34m)\u001b[0m\u001b[0;34m]\u001b[0m\u001b[0;34m\u001b[0m\u001b[0;34m\u001b[0m\u001b[0m\n\u001b[1;32m   2638\u001b[0m \u001b[0;34m\u001b[0m\u001b[0m\n",
      "\u001b[0;32m/usr/local/lib/python3.7/site-packages/tensorflow/python/client/session.py\u001b[0m in \u001b[0;36m__call__\u001b[0;34m(self, *args, **kwargs)\u001b[0m\n\u001b[1;32m   1437\u001b[0m           ret = tf_session.TF_SessionRunCallable(\n\u001b[1;32m   1438\u001b[0m               \u001b[0mself\u001b[0m\u001b[0;34m.\u001b[0m\u001b[0m_session\u001b[0m\u001b[0;34m.\u001b[0m\u001b[0m_session\u001b[0m\u001b[0;34m,\u001b[0m \u001b[0mself\u001b[0m\u001b[0;34m.\u001b[0m\u001b[0m_handle\u001b[0m\u001b[0;34m,\u001b[0m \u001b[0margs\u001b[0m\u001b[0;34m,\u001b[0m \u001b[0mstatus\u001b[0m\u001b[0;34m,\u001b[0m\u001b[0;34m\u001b[0m\u001b[0;34m\u001b[0m\u001b[0m\n\u001b[0;32m-> 1439\u001b[0;31m               run_metadata_ptr)\n\u001b[0m\u001b[1;32m   1440\u001b[0m         \u001b[0;32mif\u001b[0m \u001b[0mrun_metadata\u001b[0m\u001b[0;34m:\u001b[0m\u001b[0;34m\u001b[0m\u001b[0;34m\u001b[0m\u001b[0m\n\u001b[1;32m   1441\u001b[0m           \u001b[0mproto_data\u001b[0m \u001b[0;34m=\u001b[0m \u001b[0mtf_session\u001b[0m\u001b[0;34m.\u001b[0m\u001b[0mTF_GetBuffer\u001b[0m\u001b[0;34m(\u001b[0m\u001b[0mrun_metadata_ptr\u001b[0m\u001b[0;34m)\u001b[0m\u001b[0;34m\u001b[0m\u001b[0;34m\u001b[0m\u001b[0m\n",
      "\u001b[0;32m/usr/local/lib/python3.7/site-packages/tensorflow/python/framework/errors_impl.py\u001b[0m in \u001b[0;36m__exit__\u001b[0;34m(self, type_arg, value_arg, traceback_arg)\u001b[0m\n\u001b[1;32m    526\u001b[0m             \u001b[0;32mNone\u001b[0m\u001b[0;34m,\u001b[0m \u001b[0;32mNone\u001b[0m\u001b[0;34m,\u001b[0m\u001b[0;34m\u001b[0m\u001b[0;34m\u001b[0m\u001b[0m\n\u001b[1;32m    527\u001b[0m             \u001b[0mcompat\u001b[0m\u001b[0;34m.\u001b[0m\u001b[0mas_text\u001b[0m\u001b[0;34m(\u001b[0m\u001b[0mc_api\u001b[0m\u001b[0;34m.\u001b[0m\u001b[0mTF_Message\u001b[0m\u001b[0;34m(\u001b[0m\u001b[0mself\u001b[0m\u001b[0;34m.\u001b[0m\u001b[0mstatus\u001b[0m\u001b[0;34m.\u001b[0m\u001b[0mstatus\u001b[0m\u001b[0;34m)\u001b[0m\u001b[0;34m)\u001b[0m\u001b[0;34m,\u001b[0m\u001b[0;34m\u001b[0m\u001b[0;34m\u001b[0m\u001b[0m\n\u001b[0;32m--> 528\u001b[0;31m             c_api.TF_GetCode(self.status.status))\n\u001b[0m\u001b[1;32m    529\u001b[0m     \u001b[0;31m# Delete the underlying status object from memory otherwise it stays alive\u001b[0m\u001b[0;34m\u001b[0m\u001b[0;34m\u001b[0m\u001b[0;34m\u001b[0m\u001b[0m\n\u001b[1;32m    530\u001b[0m     \u001b[0;31m# as there is a reference to status from this from the traceback due to\u001b[0m\u001b[0;34m\u001b[0m\u001b[0;34m\u001b[0m\u001b[0;34m\u001b[0m\u001b[0m\n",
      "\u001b[0;31mInvalidArgumentError\u001b[0m: Incompatible shapes: [36864] vs. [25600]\n\t [[{{node loss_2/topol_decoder_loss/logistic_loss/mul}}]]"
     ]
    }
   ],
   "source": [
    "vae = VAE(modelArgs, trainArgs, g_train, g_train_mod_imputed, g_test, g_test_mod_imputed, f_train, f_train_imputed, f_test, f_test_imputed)\n",
    "\n",
    "models = vae.model "
   ]
  },
  {
   "cell_type": "markdown",
   "metadata": {},
   "source": [
    "# Analysis"
   ]
  },
  {
   "cell_type": "markdown",
   "metadata": {},
   "source": [
    "### Generate Single Graph"
   ]
  },
  {
   "cell_type": "code",
   "execution_count": 13,
   "metadata": {
    "code_folding": []
   },
   "outputs": [
    {
     "ename": "NameError",
     "evalue": "name 'models' is not defined",
     "output_type": "error",
     "traceback": [
      "\u001b[0;31m---------------------------------------------------------------------------\u001b[0m",
      "\u001b[0;31mNameError\u001b[0m                                 Traceback (most recent call last)",
      "\u001b[0;32m<ipython-input-13-9980207c8aeb>\u001b[0m in \u001b[0;36m<module>\u001b[0;34m\u001b[0m\n\u001b[1;32m      1\u001b[0m \u001b[0manalyzeArgs\u001b[0m \u001b[0;34m=\u001b[0m \u001b[0;34m{\u001b[0m\u001b[0;34m\"z\"\u001b[0m\u001b[0;34m:\u001b[0m \u001b[0;34m[\u001b[0m\u001b[0;36m0\u001b[0m\u001b[0;34m,\u001b[0m\u001b[0;36m1\u001b[0m\u001b[0;34m]\u001b[0m\u001b[0;34m,\u001b[0m \u001b[0;34m\"activations\"\u001b[0m\u001b[0;34m:\u001b[0m \u001b[0;34m[\u001b[0m\u001b[0;36m20\u001b[0m\u001b[0;34m,\u001b[0m\u001b[0;34m-\u001b[0m\u001b[0;36m2\u001b[0m\u001b[0;34m]\u001b[0m\u001b[0;34m,\u001b[0m \u001b[0;34m\"normalize_feature\"\u001b[0m\u001b[0;34m:\u001b[0m \u001b[0;32mFalse\u001b[0m\u001b[0;34m}\u001b[0m\u001b[0;34m\u001b[0m\u001b[0;34m\u001b[0m\u001b[0m\n\u001b[0;32m----> 2\u001b[0;31m \u001b[0mgenerate_single_features\u001b[0m\u001b[0;34m(\u001b[0m\u001b[0manalyzeArgs\u001b[0m\u001b[0;34m,\u001b[0m \u001b[0mmodelArgs\u001b[0m\u001b[0;34m,\u001b[0m \u001b[0mdataArgs\u001b[0m\u001b[0;34m,\u001b[0m \u001b[0mmodels\u001b[0m\u001b[0;34m,\u001b[0m \u001b[0morig_cmap\u001b[0m\u001b[0;34m)\u001b[0m\u001b[0;34m\u001b[0m\u001b[0;34m\u001b[0m\u001b[0m\n\u001b[0m",
      "\u001b[0;31mNameError\u001b[0m: name 'models' is not defined"
     ]
    }
   ],
   "source": [
    "analyzeArgs = {\"z\": [0,1], \"activations\": [20,-2], \"normalize_feature\": False}\n",
    "generate_single_features(analyzeArgs, modelArgs, dataArgs, models, orig_cmap)"
   ]
  },
  {
   "cell_type": "markdown",
   "metadata": {},
   "source": [
    "### Generate Graph Manifold"
   ]
  },
  {
   "cell_type": "code",
   "execution_count": 33,
   "metadata": {},
   "outputs": [
    {
     "name": "stdout",
     "output_type": "stream",
     "text": [
      "latent dimensions: 2\n"
     ]
    },
    {
     "data": {
      "image/png": "[encoded data removed]",
      "text/plain": [
       "<Figure size 576x576 with 49 Axes>"
      ]
     },
     "metadata": {},
     "output_type": "display_data"
    },
    {
     "data": {
      "image/png": "[encoded data removed]",
      "text/plain": [
       "<Figure size 720x720 with 1 Axes>"
      ]
     },
     "metadata": {
      "needs_background": "light"
     },
     "output_type": "display_data"
    }
   ],
   "source": [
    "# range, normal, z\n",
    "analyzeArgs = {\"z\": [0,1], \"sample\": \"range\", \"act_range\": [-4, 4], \"act_scale\": 3, \"size_of_manifold\": 7, \"save_plots\": False, \"normalize_feature\": False}\n",
    "generate_manifold_features(analyzeArgs, modelArgs, dataArgs, models, data, orig_cmap, batch_size=trainArgs[\"batch_size\"])"
   ]
  },
  {
   "cell_type": "markdown",
   "metadata": {},
   "source": [
    "## Impaint Graphs (Extreme Cases)"
   ]
  },
  {
   "cell_type": "code",
   "execution_count": 34,
   "metadata": {
    "code_folding": [
     0
    ]
   },
   "outputs": [
    {
     "name": "stdout",
     "output_type": "stream",
     "text": [
      "impainting the features\n",
      "original attributes: [0. 0. 0. 0. 0. 0. 0. 0.]\n"
     ]
    },
    {
     "data": {
      "image/png": "[encoded data removed]",
      "text/plain": [
       "<Figure size 432x288 with 1 Axes>"
      ]
     },
     "metadata": {},
     "output_type": "display_data"
    },
    {
     "name": "stdout",
     "output_type": "stream",
     "text": [
      "reconstructed attributes:: [0.35964757 0.32282174 0.3013363  0.24422711 0.18808424]\n"
     ]
    },
    {
     "data": {
      "image/png": "[encoded data removed]",
      "text/plain": [
       "<Figure size 432x288 with 1 Axes>"
      ]
     },
     "metadata": {},
     "output_type": "display_data"
    }
   ],
   "source": [
    "def impaint(analyzeArgs, imputeArgs, modelArgs, models, batch_size=128):\n",
    "\n",
    "    print(\"impainting the\", imputeArgs[\"impute\"])\n",
    "    \n",
    "    ## unpack models__________________________\n",
    "    \n",
    "    encoder, topol_decoder, attr_decoder = models  # trained models\n",
    "    \n",
    "    ## generate feature data___________________________\n",
    "    f = np.reshape([analyzeArgs[\"f\"]] * analyzeArgs[\"n\"], (analyzeArgs[\"n\"], 1))\n",
    "    \n",
    "    ## pad features with zeroes\n",
    "    f = pad_attr(f, dataArgs)\n",
    "\n",
    "    \n",
    "    ## generate graph data___________________________\n",
    "    G = np.zeros((1, *calculate_A_shape(dataArgs[\"n_max\"], dataArgs[\"diag_offset\"])))\n",
    "    F = np.zeros((1, dataArgs[\"n_max\"], dataArgs[\"n_features\"]))\n",
    "\n",
    "    g = get_graph(n = analyzeArgs[\"n\"], p = analyzeArgs[\"p\"], draw = False)\n",
    "    \n",
    "    g, a = sort_adj(g)\n",
    "    a = pad_matrix(a, dataArgs[\"n_max\"], dataArgs[\"diag_value\"])  # pad adjacency matrix to allow less nodes than n_max and fill diagonal\n",
    "    a = reshape_A(a, diag_offset = dataArgs[\"diag_offset\"])\n",
    "    \n",
    "    G[0] = a\n",
    "    F[0] = f\n",
    "    \n",
    "    \n",
    "    ## impute data_______________________\n",
    "    \n",
    "    a_imputed, f_imputed = imput_data(imputeArgs, modelArgs, dataArgs, G, F)\n",
    "    \n",
    "    \n",
    "    ## ENCODER_________________________________\n",
    "    \n",
    "    # build graph_conv_filters\n",
    "    SYM_NORM = True\n",
    "    a_imputed_mod = preprocess_adj_tensor_with_identity(np.squeeze(a_imputed), SYM_NORM)\n",
    "    z_mean, _, _ = encoder.predict([f_imputed, a_imputed_mod], batch_size = batch_size)\n",
    "\n",
    "    \n",
    "    ## DECODER_________________________________    \n",
    "    \n",
    "    topol_decoded = topol_decoder.predict(z_mean, batch_size = batch_size)\n",
    "    attr_decoded = attr_decoder.predict(z_mean, batch_size = batch_size)\n",
    "    \n",
    "    \n",
    "    ## GRAPH RECONSTRUCTION______________________\n",
    "    \n",
    "    ## reconstruct graph from output\n",
    "    reconstructed_a = reconstruct_adjacency(topol_decoded, dataArgs[\"clip\"], dataArgs[\"diag_offset\"])\n",
    "    reconstructed_a, n_nodes = unpad_matrix(reconstructed_a, dataArgs[\"diag_value\"], 0.2, dataArgs[\"fix_n\"])\n",
    "    reconstructed_g = nx.from_numpy_matrix(reconstructed_a)\n",
    "    \n",
    "    ## reconstruct attributes\n",
    "    reconstructed_f = unpad_attr(attr_decoded[0], n_nodes, analyzeArgs, dataArgs)\n",
    "    \n",
    "    ## create imputed graph\n",
    "    a_imputed, n_nodes = unpad_matrix(np.squeeze(a_imputed[0]), dataArgs[\"diag_value\"], 0.2, dataArgs[\"fix_n\"])\n",
    "    g_imputed = nx.from_numpy_matrix(a_imputed)\n",
    "    \n",
    "    f_imputed = np.reshape(f_imputed, (f_imputed.shape[1]))\n",
    "    f_imputed = f_imputed[:analyzeArgs[\"n\"]]\n",
    "    \n",
    "    print(\"original attributes:\", f_imputed)\n",
    "    \n",
    "    \n",
    "    ## GRAPH DRAWING_____________________________\n",
    "    \n",
    "    ## 1) draw imputed graph\n",
    "    if reconstructed_f.shape[0] > 0:\n",
    "        fixed_cmap = shiftedColorMap(orig_cmap, start=min(f_imputed), midpoint=0.5, stop=max(f_imputed),name='fixed')\n",
    "    else:\n",
    "        fixed_cmap = shiftedColorMap(orig_cmap, start=0.5, midpoint=0.5, stop=0.5, name='fixed')    \n",
    "    nx.draw(g_imputed, node_color=f_imputed, font_color='white', cmap = fixed_cmap)\n",
    "    plt.show()\n",
    "    \n",
    "    ## 2) draw reconstructed graph\n",
    "    if reconstructed_f.shape[0] > 0:\n",
    "        fixed_cmap = shiftedColorMap(orig_cmap, start=min(reconstructed_f), midpoint=0.5, stop=max(reconstructed_f),name='fixed')\n",
    "    else:\n",
    "        fixed_cmap = shiftedColorMap(orig_cmap, start=0.5, midpoint=0.5, stop=0.5, name='fixed') \n",
    "    print(\"reconstructed attributes::\", reconstructed_f)\n",
    "    nx.draw(reconstructed_g, node_color=reconstructed_f, font_color='white', cmap = fixed_cmap)\n",
    "    plt.show()\n",
    "\n",
    "        \n",
    "  ## PLOT RESULTS ________________________________________\n",
    "\n",
    "imputeArgs[\"impute_frac\"] = 1.0\n",
    "analyzeArgs = {\"n\": 8, \"p\": 1.0, \"f\": 0.4, \"normalize_feature\": False}\n",
    "impaint(analyzeArgs, imputeArgs, modelArgs, models, batch_size=trainArgs[\"batch_size\"])"
   ]
  },
  {
   "cell_type": "code",
   "execution_count": null,
   "metadata": {},
   "outputs": [],
   "source": []
  }
 ],
 "metadata": {
  "kernelspec": {
   "display_name": "Python 3",
   "language": "python",
   "name": "python3"
  },
  "language_info": {
   "codemirror_mode": {
    "name": "ipython",
    "version": 3
   },
   "file_extension": ".py",
   "mimetype": "text/x-python",
   "name": "python",
   "nbconvert_exporter": "python",
   "pygments_lexer": "ipython3",
   "version": "3.7.3"
  }
 },
 "nbformat": 4,
 "nbformat_minor": 2
}
