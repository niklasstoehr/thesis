{
 "cells": [
  {
   "cell_type": "markdown",
   "metadata": {},
   "source": [
    "# Random Graph Generators and Real-world Graphs"
   ]
  },
  {
   "cell_type": "markdown",
   "metadata": {},
   "source": [
    "### Libraries"
   ]
  },
  {
   "cell_type": "code",
   "execution_count": null,
   "metadata": {},
   "outputs": [],
   "source": [
    "## Basic\n",
    "import numpy as np\n",
    "\n",
    "## Visualization\n",
    "import matplotlib.pyplot as plt\n",
    "import seaborn as sns\n",
    "\n",
    "## Network Processing\n",
    "\n",
    "## networkx\n",
    "import networkx as nx\n",
    "from networkx.generators import random_graphs\n",
    "from networkx.generators import social\n",
    "from networkx.generators import classic\n",
    "\n",
    "\n",
    "## smallworld\n",
    "from smallworld.draw import draw_network\n",
    "from smallworld import get_smallworld_graph\n",
    "\n",
    "## snap\n",
    "color_map =[\"grey\"]"
   ]
  },
  {
   "cell_type": "markdown",
   "metadata": {},
   "source": [
    "# Random Graph Generators"
   ]
  },
  {
   "cell_type": "markdown",
   "metadata": {},
   "source": [
    "## ER-Random Graph"
   ]
  },
  {
   "cell_type": "code",
   "execution_count": null,
   "metadata": {},
   "outputs": [],
   "source": [
    "## defined nodes and edges______________\n",
    "\n",
    "n = 10\n",
    "e = 100\n",
    "\n",
    "p = n/e\n",
    "G = nx.gnm_random_graph(n, e, seed=None)\n",
    "\n",
    "nx.draw(G, node_color = color_map)\n",
    "plt.show()\n",
    "print(\"p value:\", p)\n",
    "\n",
    "## with linkage probability p______________\n",
    "\n",
    "n = 20\n",
    "p = 0.2\n",
    "\n",
    "G = random_graphs.erdos_renyi_graph(n, p, seed=None, directed=False)\n",
    "dh = nx.degree_histogram(G)\n",
    "\n",
    "#plt.figure(figsize=(18,18))\n",
    "#nx.draw_spring(G, node_color = color_map)\n",
    "nx.draw_kamada_kawai(G, node_color = color_map)\n",
    "\n",
    "plt.savefig(\"plot.png\", dpi=1000)\n",
    "plt.show()"
   ]
  },
  {
   "cell_type": "markdown",
   "metadata": {},
   "source": [
    "## PA-Model (Preferential Attachment)"
   ]
  },
  {
   "cell_type": "code",
   "execution_count": null,
   "metadata": {},
   "outputs": [],
   "source": [
    "n = 15\n",
    "e = 10 # number of edges to attach from new node to existing node\n",
    "\n",
    "G = random_graphs.barabasi_albert_graph(n, e, seed=None)\n",
    "dh = nx.degree_histogram(G)\n",
    "    \n",
    "nx.draw_kamada_kawai(G, node_color = color_map)\n",
    "#nx.draw_spring(G, node_color = color_map)\n",
    "plt.savefig(\"plot.png\", dpi=1000)\n",
    "plt.show()"
   ]
  },
  {
   "cell_type": "markdown",
   "metadata": {},
   "source": [
    "## Small-World Graph"
   ]
  },
  {
   "cell_type": "code",
   "execution_count": null,
   "metadata": {},
   "outputs": [],
   "source": [
    "# define network parameters\n",
    "n = 20\n",
    "k = 4\n",
    "p = 0.15\n",
    "\n",
    "G = random_graphs.newman_watts_strogatz_graph(n, k, p, seed=None) # no edges are removed\n",
    "nx.draw_circular(G, node_color = color_map)\n",
    "#nx.draw_spring(G, node_color = color_map)\n",
    "#nx.draw_shell(G, node_color = color_map)\n",
    "#nx.draw_kamada_kawai(G, node_color = color_map)\n",
    "\n",
    "plt.savefig(\"plot.png\", dpi=1000)"
   ]
  },
  {
   "cell_type": "code",
   "execution_count": null,
   "metadata": {},
   "outputs": [],
   "source": [
    "# define network parameters\n",
    "n = 21\n",
    "k = 2\n",
    "p = 0.95\n",
    "\n",
    "G = random_graphs.watts_strogatz_graph(n, k, p, seed=None)\n",
    "nx.draw(G)"
   ]
  },
  {
   "cell_type": "markdown",
   "metadata": {},
   "source": [
    "## Dorogovtsev-Mendes Graph"
   ]
  },
  {
   "cell_type": "code",
   "execution_count": null,
   "metadata": {},
   "outputs": [],
   "source": [
    "G = classic.dorogovtsev_goltsev_mendes_graph(3, create_using=None)\n",
    "\n",
    "# at each step only one node and two edges are added.\n",
    "nx.draw(G)\n",
    "plt.show()"
   ]
  },
  {
   "cell_type": "markdown",
   "metadata": {},
   "source": [
    "## Holme and Kim Graph"
   ]
  },
  {
   "cell_type": "code",
   "execution_count": null,
   "metadata": {},
   "outputs": [],
   "source": [
    "n = 20\n",
    "e = 2 # number of edges to attach from new node to existing node\n",
    "p = 0.7 # probability of adding a triangle after adding a random edge\n",
    "\n",
    "G = random_graphs.powerlaw_cluster_graph(n, e, p, seed=None)\n",
    "\n",
    "#nx.draw_circular(G, node_color = color_map)\n",
    "#nx.draw_spring(G, node_color = color_map)\n",
    "#nx.draw_shell(G, node_color = color_map)\n",
    "nx.draw_kamada_kawai(G, node_color = color_map)\n",
    "\n",
    "plt.savefig(\"plot.png\", dpi=1000)"
   ]
  },
  {
   "cell_type": "markdown",
   "metadata": {},
   "source": [
    "## Complete Graph"
   ]
  },
  {
   "cell_type": "code",
   "execution_count": null,
   "metadata": {},
   "outputs": [],
   "source": [
    "n = 8\n",
    "\n",
    "G = classic.complete_graph(n)\n",
    "#nx.draw_circular(G, node_color = color_map)\n",
    "#nx.draw_spring(G, node_color = color_map)\n",
    "#nx.draw_shell(G, node_color = color_map)\n",
    "nx.draw_kamada_kawai(G, node_color = color_map)\n",
    "\n",
    "plt.savefig(\"plot.png\", dpi=1000)"
   ]
  },
  {
   "cell_type": "markdown",
   "metadata": {},
   "source": [
    "## Tree"
   ]
  },
  {
   "cell_type": "code",
   "execution_count": null,
   "metadata": {},
   "outputs": [],
   "source": [
    "b = 2\n",
    "h = 4\n",
    "\n",
    "G = classic.balanced_tree(b, h)\n",
    "#nx.draw_circular(G, node_color = color_map)\n",
    "#nx.draw_spring(G, node_color = color_map)\n",
    "#nx.draw_shell(G, node_color = color_map)\n",
    "nx.draw_kamada_kawai(G, node_color = color_map)\n",
    "\n",
    "plt.savefig(\"plot.png\", dpi=1000)"
   ]
  },
  {
   "cell_type": "markdown",
   "metadata": {},
   "source": [
    "# Real-World Graphs"
   ]
  },
  {
   "cell_type": "markdown",
   "metadata": {},
   "source": [
    "## Karate Club"
   ]
  },
  {
   "cell_type": "code",
   "execution_count": null,
   "metadata": {},
   "outputs": [],
   "source": [
    "G = nx.karate_club_graph()\n",
    "    \n",
    "nx.draw(G)\n",
    "plt.show()"
   ]
  },
  {
   "cell_type": "markdown",
   "metadata": {},
   "source": [
    "## Citeseer, Cora, Pubmed, Wikipedia or FB15k"
   ]
  },
  {
   "cell_type": "code",
   "execution_count": null,
   "metadata": {},
   "outputs": [],
   "source": [
    "## load the datasets from data/ directory"
   ]
  }
 ],
 "metadata": {
  "kernelspec": {
   "display_name": "Python 3",
   "language": "python",
   "name": "python3"
  },
  "language_info": {
   "codemirror_mode": {
    "name": "ipython",
    "version": 3
   },
   "file_extension": ".py",
   "mimetype": "text/x-python",
   "name": "python",
   "nbconvert_exporter": "python",
   "pygments_lexer": "ipython3",
   "version": "3.7.3"
  }
 },
 "nbformat": 4,
 "nbformat_minor": 2
}
