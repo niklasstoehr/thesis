{
 "cells": [
  {
   "cell_type": "markdown",
   "metadata": {},
   "source": [
    "# Citeseer"
   ]
  },
  {
   "cell_type": "markdown",
   "metadata": {},
   "source": [
    "### Libraries"
   ]
  },
  {
   "cell_type": "code",
   "execution_count": 1,
   "metadata": {
    "code_folding": [
     0
    ]
   },
   "outputs": [
    {
     "name": "stderr",
     "output_type": "stream",
     "text": [
      "Using TensorFlow backend.\n"
     ]
    }
   ],
   "source": [
    "## libs \n",
    "from __future__ import absolute_import\n",
    "from __future__ import division\n",
    "from __future__ import print_function\n",
    "\n",
    "## Keras\n",
    "from keras.layers import Lambda, Input, Dense, Conv2D, Conv2DTranspose, Flatten, Reshape\n",
    "from keras.models import Model\n",
    "from keras.callbacks import EarlyStopping, ModelCheckpoint\n",
    "from keras.losses import mse, binary_crossentropy\n",
    "from keras.utils import plot_model\n",
    "from keras import backend as K\n",
    "\n",
    "## Basic\n",
    "from tqdm import tqdm_notebook as tqdm\n",
    "import argparse\n",
    "import os\n",
    "import random\n",
    "import itertools\n",
    "import time\n",
    "\n",
    "# Computation\n",
    "import numpy as np\n",
    "from sklearn.model_selection import train_test_split\n",
    "from sklearn.metrics import mutual_info_score\n",
    "\n",
    "import scipy\n",
    "from scipy.stats.stats import pearsonr \n",
    "\n",
    "## Visualization\n",
    "import matplotlib.pyplot as plt\n",
    "import seaborn as sns\n",
    "\n",
    "## Network Processing\n",
    "import networkx as nx\n",
    "from networkx.generators import random_graphs\n",
    "\n",
    "## node colour\n",
    "color_map = [\"steelblue\"]"
   ]
  },
  {
   "cell_type": "markdown",
   "metadata": {},
   "source": [
    "### Supporting Functions"
   ]
  },
  {
   "cell_type": "code",
   "execution_count": 2,
   "metadata": {
    "code_folding": [
     0
    ]
   },
   "outputs": [],
   "source": [
    "## supporting functions\n",
    "from support.preprocessing import sort_adjacency, reshape_A, calculate_A_shape, reconstruct_adjacency, pad_matrix, unpad_matrix, prepare_in_out\n",
    "from support.metrics import compute_mig, compute_mi\n",
    "from support.generating import generate_single, generate_manifold, generate_topol_manifold, generate_topol_manifold\n",
    "from support.latent_space import vis2D, visDistr\n",
    "\n",
    "## graph sampling\n",
    "from sampling import ForestFire, Metropolis_Hastings, Random_Walk, Snowball, Ties, Base_Samplers"
   ]
  },
  {
   "cell_type": "markdown",
   "metadata": {},
   "source": [
    "## Loading Graph Data"
   ]
  },
  {
   "cell_type": "code",
   "execution_count": 3,
   "metadata": {
    "code_folding": [
     0
    ]
   },
   "outputs": [
    {
     "name": "stdout",
     "output_type": "stream",
     "text": [
      "number of nodes: 384413\n",
      "number of edges: 1743018\n",
      "max_degree: 1739\n"
     ]
    }
   ],
   "source": [
    "## load graph data\n",
    "e_file = open('data/citeseer/out.citeseer','rb') \n",
    "g_complete = nx.read_edgelist(e_file)\n",
    "g_complete = nx.convert_node_labels_to_integers(g_complete, first_label=0, ordering='default', label_attribute=None)\n",
    "e_file.close()\n",
    "\n",
    "n_complete = len(g_complete)\n",
    "e_complete = len(g_complete.edges())\n",
    "a_complete = nx.adjacency_matrix(g_complete)\n",
    "max_degree = max([d for n, d in g_complete.degree()])\n",
    "\n",
    "print(\"number of nodes:\", n_complete)\n",
    "print(\"number of edges:\", e_complete)\n",
    "print(\"max_degree:\", max_degree)"
   ]
  },
  {
   "cell_type": "markdown",
   "metadata": {},
   "source": [
    "## Sample Subgraph"
   ]
  },
  {
   "cell_type": "code",
   "execution_count": 9,
   "metadata": {
    "code_folding": []
   },
   "outputs": [
    {
     "name": "stdout",
     "output_type": "stream",
     "text": [
      "-- n_max around 175 --\n",
      "-- function get_graph takes 1.65199 secs --\n"
     ]
    },
    {
     "data": {
      "image/png": "[encoded data removed]",
      "text/plain": [
       "<Figure size 432x288 with 1 Axes>"
      ]
     },
     "metadata": {},
     "output_type": "display_data"
    }
   ],
   "source": [
    "sampleArgs = {\"sample\": \"jump\", \"jump_bias\": \"degree\", \"random_n\": 100, \"random_p\": 0.25, \"source_starts\": 50, \"source_returns\": 20, \"depth\": 2}\n",
    "\n",
    "def get_graph(sampleArgs,g_complete,a_complete):\n",
    "\n",
    "    if sampleArgs[\"sample\"] == \"forestfire\":\n",
    "        sampler = ForestFire.ForestFire(g_complete,a_complete)\n",
    "        g = sampler.forestfire(sampleArgs[\"random_n\"])\n",
    "\n",
    "    if sampleArgs[\"sample\"] == \"snowball\":\n",
    "        sampler = Snowball.Snowball(g_complete,a_complete)\n",
    "        g = sampler.snowball(sampleArgs[\"random_n\"], sampleArgs[\"source_starts\"])\n",
    "\n",
    "    if sampleArgs[\"sample\"] == \"random_walk_induced_graph_sampling\":\n",
    "        sampler = Random_Walk.Random_Walk(g_complete,a_complete)\n",
    "        g = sampler.random_walk_induced_graph_sampling(sampleArgs[\"random_n\"])\n",
    "\n",
    "    if sampleArgs[\"sample\"] == \"random_walk_sampling_with_fly_back\":\n",
    "        sampler = Random_Walk.Random_Walk(g_complete,a_complete)\n",
    "        g = sampler.random_walk_sampling_with_fly_back(sampleArgs[\"random_n\"], sampleArgs[\"random_p\"])\n",
    "        \n",
    "    if sampleArgs[\"sample\"] == \"bfs\":\n",
    "        sampler = Base_Samplers.Base_Samplers(g_complete,a_complete)\n",
    "        g = sampler.bfs(sampleArgs[\"source_starts\"], sampleArgs[\"depth\"]) \n",
    "        \n",
    "    if sampleArgs[\"sample\"] == \"walk\":\n",
    "        sampler = Base_Samplers.Base_Samplers(g_complete,a_complete)\n",
    "        g = sampler.walk(sampleArgs[\"source_starts\"], sampleArgs[\"source_returns\"], sampleArgs[\"random_p\"])        \n",
    "        \n",
    "    if sampleArgs[\"sample\"] == \"jump\":\n",
    "        sampler = Base_Samplers.Base_Samplers(g_complete,a_complete)\n",
    "        g = sampler.jump(sampleArgs[\"source_starts\"], sampleArgs[\"random_p\"], sampleArgs[\"jump_bias\"])\n",
    "        \n",
    "    if sampleArgs[\"sample\"] == \"adjacency\":\n",
    "        sampler = Base_Samplers.Base_Samplers(g_complete,a_complete)\n",
    "        g = sampler.adjacency(sampleArgs[\"random_n\"]) \n",
    "        \n",
    "    if sampleArgs[\"sample\"] == \"select\":\n",
    "        sampler = Base_Samplers.Base_Samplers(g_complete,a_complete)\n",
    "        g = sampler.adjacency(sampleArgs[\"random_n\"]) \n",
    "    \n",
    "    return g \n",
    "\n",
    "start_time = time.time()\n",
    "g = get_graph(sampleArgs,g_complete,a_complete)\n",
    "print(\"-- n_max around\", len(g), \"--\")\n",
    "print(\"-- function get_graph takes %s secs --\" % round((time.time() - start_time),  5))\n",
    "\n",
    "if len(g) <= 200:\n",
    "    nx.draw(g, node_color = color_map, with_labels = False)"
   ]
  },
  {
   "cell_type": "markdown",
   "metadata": {},
   "source": [
    "# Generating Training Data"
   ]
  },
  {
   "cell_type": "code",
   "execution_count": null,
   "metadata": {
    "code_folding": []
   },
   "outputs": [
    {
     "data": {
      "application/vnd.jupyter.widget-view+json": {
       "model_id": "37cf645ca17d4805980c8ca075382b66",
       "version_major": 2,
       "version_minor": 0
      },
      "text/plain": [
       "HBox(children=(IntProgress(value=0), HTML(value='')))"
      ]
     },
     "metadata": {},
     "output_type": "display_data"
    }
   ],
   "source": [
    "dataArgs = {\"n_graphs\": 100, \"n_max\": 500, \"fix_n\": False, \"diag_offset\": 0, \"diag_value\": 1, \"clip\": True}  #\"diag_offset\" - 1 == full adjacency\n",
    "\n",
    "def generate_data(dataArgs): \n",
    "    \n",
    "    ## Data ________________________________\n",
    "\n",
    "    G = np.zeros((dataArgs[\"n_graphs\"], *calculate_A_shape(dataArgs[\"n_max\"], diag_offset = dataArgs[\"diag_offset\"])))\n",
    "\n",
    "    ## Ground Truth Labels ______________________________\n",
    "    \n",
    "    topol_params = [\"#nodes\", \"#edges\", \"density\", \"diameter\", \"cluster_coef\", \"assort\", \"avg_degree\"]\n",
    "    T = np.zeros((dataArgs[\"n_graphs\"], len(topol_params)))\n",
    "\n",
    "    ## Generate Graph Data_______________________________\n",
    "\n",
    "    for i in tqdm(range(0,dataArgs[\"n_graphs\"])):\n",
    "\n",
    "        ## Generate Graph Type ______________________________________________\n",
    "        \n",
    "        g = get_graph(sampleArgs,g_complete,a_complete)\n",
    "\n",
    "\n",
    "        g, a = sort_adjacency(g)\n",
    "        a = pad_matrix(a, dataArgs[\"n_max\"], dataArgs[\"diag_value\"])  # pad adjacency matrix to allow less nodes than n_max and fill diagonal\n",
    "        a_transformed = reshape_A(a, diag_offset = dataArgs[\"diag_offset\"])\n",
    "\n",
    "\n",
    "        ## Generate Ground Truth features____________________________________\n",
    "        \n",
    "        nodes = len(g)\n",
    "        edges = g.number_of_edges()\n",
    "\n",
    "        density = nx.density(g)\n",
    "\n",
    "        if nx.is_connected(g):\n",
    "            diameter = nx.diameter(g)\n",
    "        else:\n",
    "            diameter = -1\n",
    "\n",
    "        cluster_coef = nx.average_clustering(g)\n",
    "\n",
    "        if g.number_of_edges() > 0:\n",
    "            assort = nx.degree_assortativity_coefficient(g, x='out', y='in')\n",
    "        else:\n",
    "            assort = 0\n",
    "\n",
    "        avg_degree = sum(i for i in nx.degree_centrality(g).values()) / len(nx.degree_centrality(g).keys())\n",
    "\n",
    "\n",
    "        ## toDO: add more graph topologies\n",
    "\n",
    "        ## Build Data Arrays___________________________________________________\n",
    "\n",
    "        G[i] = a_transformed\n",
    "\n",
    "        T[i,0] = nodes\n",
    "        T[i,1] = edges\n",
    "        T[i,2] = density\n",
    "        T[i,3] = diameter\n",
    "        T[i,4] = cluster_coef\n",
    "        T[i,5] = assort\n",
    "        T[i,6] = avg_degree\n",
    "\n",
    "\n",
    "    ## Input and Output Size ___________________________________________________________\n",
    "\n",
    "    T, input_shape, output_shape = prepare_in_out(T, dataArgs[\"diag_offset\"], calculate_A_shape(dataArgs[\"n_max\"], dataArgs[\"diag_offset\"]))\n",
    "    print(\"input_shape:\", input_shape, \", output_shape:\", output_shape)\n",
    "    \n",
    "    return G,T,topol_params,input_shape,output_shape\n",
    "    \n",
    "G, T, topol_params, input_shape, output_shape = generate_data(dataArgs)"
   ]
  },
  {
   "cell_type": "markdown",
   "metadata": {},
   "source": [
    "# beta-VAE (MLP, Conv)"
   ]
  },
  {
   "cell_type": "markdown",
   "metadata": {},
   "source": [
    "## Build Model"
   ]
  },
  {
   "cell_type": "code",
   "execution_count": null,
   "metadata": {
    "code_folding": [
     8,
     29,
     72
    ]
   },
   "outputs": [],
   "source": [
    "# network parameters\n",
    "modelArgs = {\"nn_architecture\": \"mlp\", \"latent_dim\": 2, \"filters\": 16, \"kernel_size\": 3, \"input_shape\": input_shape, \"output_shape\": output_shape}\n",
    "\n",
    "\n",
    "# reparameterization trick\n",
    "# instead of sampling from Q(z|X), sample eps = N(0,I)\n",
    "# then z = z_mean + sqrt(var)*eps\n",
    "\n",
    "def sampling(args):\n",
    "    \"\"\"Reparameterization trick by sampling fr an isotropic unit Gaussian.\n",
    "    # Arguments\n",
    "        args (tensor): mean and log of variance of Q(z|X)\n",
    "    # Returns\n",
    "        z (tensor): sampled latent vector\n",
    "    \"\"\"\n",
    "\n",
    "    z_mean, z_log_var = args\n",
    "    batch = K.shape(z_mean)[0]\n",
    "    dim = K.int_shape(z_mean)[1]\n",
    "    # by default, random_normal has mean=0 and std=1.0\n",
    "    epsilon = K.random_normal(shape=(batch, dim))\n",
    "    return z_mean + K.exp(0.5 * z_log_var) * epsilon\n",
    "\n",
    "\n",
    "\n",
    "## MODEL ______________________________________________________________\n",
    "\n",
    "## Multi-layer Perceptron without convolutions__________________________________\n",
    "\n",
    "if modelArgs[\"nn_architecture\"] == \"mlp\":\n",
    "\n",
    "    ## 1) build encoder model\n",
    "    inputs = Input(shape=modelArgs[\"input_shape\"], name='encoder_input')\n",
    "    x = Dense(128, activation='relu')(inputs)\n",
    "    x = Dense(64, activation='relu')(x)\n",
    "    z_mean = Dense(modelArgs[\"latent_dim\"], name='z_mean')(x)\n",
    "    z_log_var = Dense(modelArgs[\"latent_dim\"], name='z_log_var')(x)\n",
    "\n",
    "    ## 2) build decoder model\n",
    "    latent_inputs = Input(shape=(modelArgs[\"latent_dim\"],), name='z_sampling')\n",
    "    y = Dense(64, activation='relu')(latent_inputs)\n",
    "    y = Dense(128, activation='relu')(y)\n",
    "    outputs = Dense(modelArgs[\"output_shape\"], activation='sigmoid')(y)\n",
    "\n",
    "    # use reparameterization trick to push the sampling out as input\n",
    "    # note that \"output_shape\" isn't necessary with the TensorFlow backend\n",
    "    z = Lambda(sampling, output_shape=(modelArgs[\"latent_dim\"],), name='z')([z_mean, z_log_var])\n",
    "\n",
    "\n",
    "    ## INSTANTIATE ________________________________________________\n",
    "\n",
    "    ## 1) instantiate encoder model\n",
    "    encoder = Model(inputs, [z_mean, z_log_var, z], name='encoder')\n",
    "    encoder.summary()\n",
    "    #plot_model(encoder, to_file='vae_mlp_encoder.png', show_shapes=True)\n",
    "\n",
    "    ## 2) instantiate decoder model\n",
    "    decoder = Model(latent_inputs, outputs, name='decoder')\n",
    "    decoder.summary()\n",
    "    #plot_model(decoder, to_file='vae_mlp_decoder.png', show_shapes=True)\n",
    "\n",
    "    ## 3) instantiate VAE model\n",
    "    outputs = decoder(encoder(inputs)[2])\n",
    "    vae = Model(inputs, outputs, name='vae_graph')\n",
    "    #vae.summary()\n",
    "\n",
    "\n",
    "\n",
    "\n",
    "\n",
    "## Convolutional Neural Network_________________________________\n",
    "\n",
    "if modelArgs[\"nn_architecture\"] == \"conv\":\n",
    "\n",
    "\n",
    "    ## 1) build encoder model____________________________________\n",
    "\n",
    "    inputs = Input(shape=modelArgs[\"input_shape\"], name='encoder_input')\n",
    "    x = inputs\n",
    "\n",
    "    for i in range(2):\n",
    "        modelArgs['filters'] *= 2\n",
    "        x = Conv2D(filters=modelArgs['filters'], kernel_size=modelArgs['kernel_size'], activation='relu', strides=2, padding='same')(x)\n",
    "\n",
    "    # shape info needed to build decoder model\n",
    "    shape = K.int_shape(x)\n",
    "\n",
    "    # generate latent vector Q(z|X)\n",
    "    x = Flatten()(x)\n",
    "    x = Dense(16, activation='relu')(x)\n",
    "    z_mean = Dense(modelArgs[\"latent_dim\"], name='z_mean')(x)\n",
    "    z_log_var = Dense(modelArgs[\"latent_dim\"], name='z_log_var')(x)\n",
    "\n",
    "\n",
    "\n",
    "    ## 2) build decoder model____________________________________\n",
    "\n",
    "    latent_inputs = Input(shape=(modelArgs[\"latent_dim\"],), name='z_sampling')\n",
    "    x = Dense(shape[1] * shape[2] * shape[3], activation='relu')(latent_inputs)\n",
    "    x = Reshape((shape[1], shape[2], shape[3]))(x)\n",
    "\n",
    "    for i in range(2):\n",
    "        x = Conv2DTranspose(filters=modelArgs['filters'], kernel_size=modelArgs['kernel_size'], activation='relu', strides=2, padding='same')(x)\n",
    "        modelArgs['filters'] //= 2\n",
    "\n",
    "    outputs = Conv2DTranspose(filters=1, kernel_size=modelArgs['kernel_size'], activation='sigmoid', padding='same', name='decoder_output')(x)\n",
    "\n",
    "    # use reparameterization trick to push the sampling out as input\n",
    "    # note that \"output_shape\" isn't necessary with the TensorFlow backend\n",
    "    z = Lambda(sampling, output_shape=(modelArgs[\"output_shape\"],), name='z')([z_mean, z_log_var])\n",
    "\n",
    "\n",
    "\n",
    "    ## INSTANTIATE___________________________________\n",
    "\n",
    "    ## 1) instantiate encoder model    \n",
    "    encoder = Model(inputs, [z_mean, z_log_var, z], name='encoder')\n",
    "    encoder.summary()\n",
    "    #plot_model(encoder, to_file='vae_cnn_encoder.png', show_shapes=True)\n",
    "\n",
    "\n",
    "    ## 2) instantiate decoder model\n",
    "    decoder = Model(latent_inputs, outputs, name='decoder')\n",
    "    decoder.summary()\n",
    "    #plot_model(decoder, to_file='vae_cnn_decoder.png', show_shapes=True)\n",
    "\n",
    "\n",
    "    ## 3) instantiate VAE model\n",
    "    outputs = decoder(encoder(inputs)[2])\n",
    "    vae = Model(inputs, outputs, name='conv_vae')\n",
    "    #vae.summary()"
   ]
  },
  {
   "cell_type": "markdown",
   "metadata": {},
   "source": [
    "## Train Model"
   ]
  },
  {
   "cell_type": "code",
   "execution_count": null,
   "metadata": {
    "code_folding": [
     14,
     24,
     53,
     59
    ]
   },
   "outputs": [],
   "source": [
    "## Configs  \n",
    "trainArgs = {\"loss\": \"mse\", \"weights\": \"train\", \"early_stop\": 3, \"batch_size\": 128, \"epochs\": 50, \"beta\": 1, \"data_split\": 0.2}\n",
    "\n",
    "## MLP: beta =\n",
    "## CNN: beta = (latent 2 / beta 25)\n",
    "\n",
    "## Train and Validation Split _______________________________________________\n",
    "\n",
    "x_train, x_test, y_train, y_test = train_test_split(G, T, test_size= trainArgs[\"data_split\"], random_state=1, shuffle=True)\n",
    "\n",
    "models = (encoder, decoder)\n",
    "data = (x_test, y_test)\n",
    "\n",
    "\n",
    "## VAE loss = mse_loss or xent_loss + kl_loss_______________________\n",
    "\n",
    "if trainArgs[\"loss\"] == \"mse\":\n",
    "    \n",
    "    if modelArgs[\"nn_architecture\"] == \"mlp\":\n",
    "        reconstruction_loss = mse(inputs, outputs)\n",
    "        reconstruction_loss *= modelArgs[\"input_shape\"]\n",
    "        \n",
    "    if modelArgs[\"nn_architecture\"] == \"conv\":\n",
    "        reconstruction_loss = mse(K.flatten(inputs), K.flatten(outputs))\n",
    "        reconstruction_loss *= modelArgs[\"input_shape\"][0] * modelArgs[\"input_shape\"][1]\n",
    "        \n",
    "if trainArgs[\"loss\"] == \"binary_crossentropy\":\n",
    "    \n",
    "    if modelArgs[\"nn_architecture\"] == \"mlp\":\n",
    "        reconstruction_loss = binary_crossentropy(inputs, outputs)\n",
    "        reconstruction_loss *= modelArgs[\"input_shape\"]\n",
    "        \n",
    "    if modelArgs[\"nn_architecture\"] == \"conv\":\n",
    "        reconstruction_loss = binary_crossentropy(K.flatten(inputs),K.flatten(outputs))\n",
    "        reconstruction_loss *= modelArgs[\"input_shape\"][0] * modelArgs[\"input_shape\"][1]\n",
    "\n",
    "\n",
    "\n",
    "## LOSS _____________________________________________\n",
    "\n",
    "kl_loss = 1 + z_log_var - K.square(z_mean) - K.exp(z_log_var)\n",
    "kl_loss = K.sum(kl_loss, axis=-1)\n",
    "kl_loss *= -0.5\n",
    "vae_loss = K.mean(reconstruction_loss + (trainArgs[\"beta\"] * kl_loss))\n",
    "vae.add_loss(vae_loss)\n",
    "vae.compile(optimizer='adam', metrics=['accuracy'])\n",
    "vae.summary()\n",
    "#plot_model(vae,to_file='vae_mlp.png',show_shapes=True)\n",
    "\n",
    "\n",
    "\n",
    "## TRAIN______________________________________________\n",
    "\n",
    "# load the autoencoder weights\n",
    "\n",
    "if trainArgs[\"weights\"] == \"load\":\n",
    "    \n",
    "    vae.load_weights(\"models/weights/vae_mlp_mnist_latent_dim_\" + str(modelArgs[\"latent_dim\"]) + \".h5\")\n",
    "\n",
    "# train the autoencoder\n",
    "\n",
    "elif trainArgs[\"weights\"] == \"train\":\n",
    "    \n",
    "    # Set callback functions to early stop training and save the best model so far\n",
    "    callbacks = [EarlyStopping(monitor='val_loss', patience=trainArgs[\"early_stop\"]), ModelCheckpoint(filepath=\"models/weights/vae_mlp_mnist_latent_dim_\" + str(modelArgs[\"latent_dim\"]) + \".h5\", save_best_only=True)]\n",
    "    \n",
    "    vae.fit(x_train, epochs=trainArgs[\"epochs\"], batch_size=trainArgs[\"batch_size\"], callbacks=callbacks, validation_data=(x_test, None))\n",
    "    vae.save_weights(\"models/weights/vae_mlp_mnist_latent_dim_\" + str(modelArgs[\"latent_dim\"]) + \".h5\")\n",
    "\n"
   ]
  },
  {
   "cell_type": "markdown",
   "metadata": {},
   "source": [
    "# Latent Space Analysis"
   ]
  },
  {
   "cell_type": "markdown",
   "metadata": {},
   "source": [
    "# Encoder"
   ]
  },
  {
   "cell_type": "markdown",
   "metadata": {},
   "source": [
    "# Iterate through single data dimension and oberseve single latent space dimension  "
   ]
  },
  {
   "cell_type": "code",
   "execution_count": null,
   "metadata": {
    "code_folding": [
     2,
     45
    ]
   },
   "outputs": [],
   "source": [
    "def latent_space_feature_correlation(analyzeArgs, modelArgs, models, data, topol_params, batch_size=128,model_name=\"vae_graph\"):\n",
    "\n",
    "    encoder, decoder = models  # trained models\n",
    "    x_test, y_test = data      # data\n",
    "                \n",
    "    G = x_test[:analyzeArgs[\"n_graphs\"],:]\n",
    "    T = y_test[:analyzeArgs[\"n_graphs\"]]\n",
    "    \n",
    "    ## ENCODER - 2D Digit Classes ______________________________________________\n",
    "\n",
    "    # display a 2D plot of the digit classes in the latent space\n",
    "    z_mean, _, _ = encoder.predict(G, batch_size = batch_size)\n",
    "\n",
    "\n",
    "    ## Graph Topologies________________________________________________________\n",
    "\n",
    "    ## Visualize Latent Variables x Topological Parameters \n",
    "\n",
    "    fig, ax = plt.subplots(nrows= z_mean.shape[-1] , ncols= len(topol_params), figsize=(30,10))\n",
    "\n",
    "    for latent_z, row in enumerate(ax):        \n",
    "        for feature, col in enumerate(row):\n",
    "\n",
    "            ## toDO: change sorting\n",
    "            y = z_mean[:,latent_z]\n",
    "            x = y_test[:,feature]\n",
    "            sns.regplot(x, y, color=\"steelblue\", ax=col)\n",
    "            #col.scatter(x, y) \n",
    "\n",
    "            # set axes range\n",
    "            #plt.xlim(-4, 4)\n",
    "            #plt.ylim(-4, 4)\n",
    "\n",
    "           # try:\n",
    "           #     ## plot trend line\n",
    "           #     x = np.nan_to_num(x)\n",
    "           #     y = np.nan_to_num(y)\n",
    "\n",
    "           #     z = np.polyfit(x, y, 1)\n",
    "           #     p = np.poly1d(z)\n",
    "           #     col.plot(x,p(x),\"steelblue\")\n",
    "           # except:\n",
    "           #     pass\n",
    "\n",
    "\n",
    "            ## compute correlation and standardized covariance\n",
    "            corr = round(pearsonr(x,y)[0],3)\n",
    "            cov = round(np.cov(x, y)[0][1]/max(x),3)\n",
    "            col.annotate(\"corr:\"+str(corr)+\", cov:\"+str(cov), xy=(0, 1), xytext=(12, -12), va='top',xycoords='axes fraction', textcoords='offset points')\n",
    "\n",
    "\n",
    "\n",
    "    ## add row and column titles _____________________\n",
    "\n",
    "    rows = ['z_{}'.format(row) for row in range(z_mean.shape[-1])]\n",
    "    cols = [t for t in topol_params]\n",
    "\n",
    "    for axis, col in zip(ax[0], cols):\n",
    "        axis.set_title(col, fontweight='bold')\n",
    "\n",
    "    for axis, row in zip(ax[:,0], rows):\n",
    "        axis.set_ylabel(row, rotation=0, size='large', fontweight='bold')\n",
    "\n",
    "\n",
    "            \n",
    "            \n",
    "\n",
    "\n",
    "## PLOT RESULTS ________________________________________\n",
    "\n",
    "analyzeArgs = {\"n_graphs\": 50, \"metric\": \"mig\"}\n",
    "latent_space_feature_correlation(analyzeArgs, modelArgs, models, data, topol_params, batch_size=trainArgs[\"batch_size\"], model_name=\"vae_mlp\")"
   ]
  },
  {
   "cell_type": "markdown",
   "metadata": {},
   "source": [
    "## Visualize the Latent Space in 2D"
   ]
  },
  {
   "cell_type": "code",
   "execution_count": null,
   "metadata": {
    "code_folding": []
   },
   "outputs": [],
   "source": [
    "analyzeArgs = {\"save_plots\": False}\n",
    "vis2D(analyzeArgs, modelArgs, models, data, batch_size=trainArgs[\"batch_size\"], model_name=\"vae_mlp\")"
   ]
  },
  {
   "cell_type": "markdown",
   "metadata": {},
   "source": [
    "## Visualize Latent Generative Distribution"
   ]
  },
  {
   "cell_type": "code",
   "execution_count": null,
   "metadata": {
    "code_folding": [
     0
    ]
   },
   "outputs": [],
   "source": [
    "analyzeArgs = {\"z\": [0,1]}\n",
    "visDistr(modelArgs, analyzeArgs, models,data,trainArgs[\"batch_size\"])"
   ]
  },
  {
   "cell_type": "markdown",
   "metadata": {},
   "source": [
    "# Decoder"
   ]
  },
  {
   "cell_type": "markdown",
   "metadata": {},
   "source": [
    "## Generate a Single Graph Instance"
   ]
  },
  {
   "cell_type": "code",
   "execution_count": null,
   "metadata": {
    "code_folding": []
   },
   "outputs": [],
   "source": [
    "analyzeArgs = {\"activations\": [0], \"z\": [0]}\n",
    "generate_single(analyzeArgs, modelArgs, dataArgs, models, color_map)"
   ]
  },
  {
   "cell_type": "markdown",
   "metadata": {},
   "source": [
    "## Generate Interpolated Manifold from Latent Space"
   ]
  },
  {
   "cell_type": "code",
   "execution_count": null,
   "metadata": {
    "code_folding": []
   },
   "outputs": [],
   "source": [
    "# range, normal, z\n",
    "analyzeArgs = {\"z\": [0,1], \"sample\": \"z\", \"act_range\": [-4, 4], \"act_scale\": 1, \"size_of_manifold\": 10, \"save_plots\": False}\n",
    "generate_manifold(analyzeArgs, modelArgs, dataArgs, models, data, color_map, batch_size=trainArgs[\"batch_size\"])"
   ]
  },
  {
   "cell_type": "code",
   "execution_count": null,
   "metadata": {},
   "outputs": [],
   "source": [
    "analyzeArgs = {\"z\": [0,1], \"plot\": \"topol\", \"sample\": \"range\", \"act_range\": [-4, 4], \"act_scale\": 1, \"size_of_manifold\": 10, \"save_plots\": False}\n",
    "generate_topol_manifold(analyzeArgs, modelArgs, dataArgs, models, data, color_map, batch_size=trainArgs[\"batch_size\"])\n",
    "\n",
    "## \"density\", \"cluster_coef\", \"assort\", \"avg_degree\""
   ]
  },
  {
   "cell_type": "code",
   "execution_count": null,
   "metadata": {},
   "outputs": [],
   "source": []
  }
 ],
 "metadata": {
  "kernelspec": {
   "display_name": "Python 3",
   "language": "python",
   "name": "python3"
  },
  "language_info": {
   "codemirror_mode": {
    "name": "ipython",
    "version": 3
   },
   "file_extension": ".py",
   "mimetype": "text/x-python",
   "name": "python",
   "nbconvert_exporter": "python",
   "pygments_lexer": "ipython3",
   "version": "3.7.3"
  }
 },
 "nbformat": 4,
 "nbformat_minor": 2
}
