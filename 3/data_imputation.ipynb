{
 "cells": [
  {
   "cell_type": "markdown",
   "metadata": {},
   "source": [
    "# Data Imputation"
   ]
  },
  {
   "cell_type": "markdown",
   "metadata": {},
   "source": [
    "### Libs"
   ]
  },
  {
   "cell_type": "code",
   "execution_count": 1,
   "metadata": {
    "code_folding": [
     0
    ]
   },
   "outputs": [
    {
     "name": "stderr",
     "output_type": "stream",
     "text": [
      "Using TensorFlow backend.\n"
     ]
    }
   ],
   "source": [
    "## libs \n",
    "from __future__ import absolute_import\n",
    "from __future__ import division\n",
    "from __future__ import print_function\n",
    "\n",
    "## Keras\n",
    "from keras.layers import Lambda, Input, Dense, Conv2D, Conv2DTranspose, Flatten, Reshape\n",
    "from keras.models import Model\n",
    "from keras.callbacks import EarlyStopping, ModelCheckpoint\n",
    "from keras.losses import mse, binary_crossentropy\n",
    "from keras.utils import plot_model\n",
    "from keras import backend as K\n",
    "\n",
    "## Basic\n",
    "from tqdm import tqdm_notebook as tqdm\n",
    "import argparse\n",
    "import os\n",
    "import random\n",
    "import itertools\n",
    "import time\n",
    "\n",
    "# Computation\n",
    "import numpy as np\n",
    "from sklearn.model_selection import train_test_split\n",
    "from sklearn.metrics import mutual_info_score\n",
    "from sklearn.preprocessing import MinMaxScaler\n",
    "\n",
    "import scipy\n",
    "from scipy.stats.stats import pearsonr \n",
    "\n",
    "## Visualization\n",
    "import matplotlib.pyplot as plt\n",
    "import matplotlib as mpl\n",
    "import seaborn as sns\n",
    "\n",
    "## Network Processing\n",
    "import networkx as nx\n",
    "from networkx.generators import random_graphs\n",
    "\n",
    "## node colour\n",
    "orig_cmap = plt.cm.PuBu"
   ]
  },
  {
   "cell_type": "markdown",
   "metadata": {},
   "source": [
    "### Supporting Function"
   ]
  },
  {
   "cell_type": "code",
   "execution_count": 2,
   "metadata": {
    "code_folding": [
     0
    ]
   },
   "outputs": [],
   "source": [
    "## supporting functions\n",
    "from support.preprocessing import sort_adj, reshape_A, calculate_A_shape, reconstruct_adjacency, pad_matrix, unpad_matrix, pad_attr, unpad_attr, prepare_in_out\n",
    "from support.metrics import compute_mig, compute_mi\n",
    "from support.graph_generating import generate_single_features, generate_manifold_features\n",
    "from support.latent_space import vis2D, visDistr\n",
    "from support.comparing import compare_manifold_adjacency, compare_topol_manifold\n",
    "from support.plotting import shiftedColorMap\n",
    "\n",
    "## graph sampling\n",
    "from sampling import ForestFire, Metropolis_Hastings, Random_Walk, Snowball, Ties, Base_Samplers"
   ]
  },
  {
   "cell_type": "code",
   "execution_count": 3,
   "metadata": {
    "code_folding": [
     0
    ]
   },
   "outputs": [
    {
     "data": {
      "image/png": "[encoded data removed]",
      "text/plain": [
       "<Figure size 432x288 with 1 Axes>"
      ]
     },
     "metadata": {},
     "output_type": "display_data"
    }
   ],
   "source": [
    "def get_graph(n,p,draw): \n",
    "\n",
    "    g = random_graphs.erdos_renyi_graph(n, p, seed=None, directed=False)\n",
    "\n",
    "    if draw:\n",
    "        f = np.random.rand(n)\n",
    "        orig_cmap = plt.cm.PuBu\n",
    "        fixed_cmap = shiftedColorMap(orig_cmap, start=min(f), midpoint=0.5, stop=max(f), name='fixed')\n",
    "        nx.draw(g, node_color=f, font_color='white', cmap = fixed_cmap)\n",
    "        plt.show()\n",
    "    \n",
    "    return g\n",
    "\n",
    "g = get_graph(n = 10, p = 0.4, draw = True)"
   ]
  },
  {
   "cell_type": "code",
   "execution_count": 4,
   "metadata": {
    "code_folding": [
     0
    ]
   },
   "outputs": [],
   "source": [
    "def generate_features(dataArgs, g, n, p):\n",
    "    \n",
    "        if dataArgs[\"feature_dependence\"] == \"random\":\n",
    "            f = np.random.rand(n, dataArgs[\"n_features\"])                   ## float\n",
    "            #F[i] = np.random.randint(2, size=(dataArgs[\"n_max\"],dataArgs[\"n_features\"]))   ## int\n",
    "            \n",
    "        if dataArgs[\"feature_dependence\"] == \"norm_degree\":\n",
    "            if dataArgs[\"n_features\"] == 1:\n",
    "                \n",
    "                f = np.asarray([int(x[1]) for x in sorted(g.degree())])  \n",
    "                f = (f) / (max(f)+1)\n",
    "                f = np.reshape(f, (f.shape[-1],1))\n",
    "                \n",
    "                    \n",
    "        if dataArgs[\"feature_dependence\"] == \"degree\":\n",
    "            if dataArgs[\"n_features\"] == 1:\n",
    "                \n",
    "                f = np.asarray([int(x[1]) for x in sorted(g.degree())])  \n",
    "                f = (f+1) / (dataArgs[\"n_max\"]+1)\n",
    "                f = np.reshape(f, (f.shape[-1],1))\n",
    "                \n",
    "                \n",
    "        if dataArgs[\"feature_dependence\"] == \"p\":  \n",
    "            if dataArgs[\"n_features\"] == 1:\n",
    "                f = np.ones((n , 1)) * p\n",
    "                \n",
    "        return f"
   ]
  },
  {
   "cell_type": "code",
   "execution_count": 5,
   "metadata": {
    "code_folding": [
     0
    ]
   },
   "outputs": [
    {
     "name": "stdout",
     "output_type": "stream",
     "text": [
      "feature_dependence: p\n"
     ]
    },
    {
     "data": {
      "application/vnd.jupyter.widget-view+json": {
       "model_id": "923214eacf4a467a808951bf3cb6c329",
       "version_major": 2,
       "version_minor": 0
      },
      "text/plain": [
       "HBox(children=(IntProgress(value=0, max=10000), HTML(value='')))"
      ]
     },
     "metadata": {},
     "output_type": "display_data"
    },
    {
     "name": "stdout",
     "output_type": "stream",
     "text": [
      "\n",
      "input_shape: ((8, 1), (8, 8, 1)) , output_shape: ((8, 1), (8, 8, 1))\n"
     ]
    }
   ],
   "source": [
    "def generate_data(dataArgs): \n",
    "    \n",
    "    \n",
    "    ## Data ________________________________\n",
    "\n",
    "    G = np.zeros((dataArgs[\"n_graphs\"], *calculate_A_shape(dataArgs[\"n_max\"], dataArgs[\"diag_offset\"])))\n",
    "    F = np.zeros((dataArgs[\"n_graphs\"], dataArgs[\"n_max\"], dataArgs[\"n_features\"]))\n",
    "    print(\"feature_dependence:\",dataArgs[\"feature_dependence\"] )\n",
    "    \n",
    "    \n",
    "    ## Generate Graph Data_______________________________\n",
    "\n",
    "    for i in tqdm(range(0,dataArgs[\"n_graphs\"])):\n",
    "        \n",
    "        ## Generate Graph Type ______________________________________________\n",
    "\n",
    "        if dataArgs[\"fix_n\"] == True:\n",
    "            n = dataArgs[\"n_max\"] # generate fixed number of nodes n_max\n",
    "        else:\n",
    "            n = random.randint(1, dataArgs[\"n_max\"]) # generate number of nodes n between 1 and n_max and\n",
    "\n",
    "            \n",
    "        p = np.random.rand(1)  # float in range 0 - 1 \n",
    "        g = get_graph(n, p, draw = False)\n",
    "                     \n",
    "        #nx.draw(g, cmap=plt.get_cmap('PuBu'), node_color=np.squeeze(f), font_color='white')\n",
    "        #plt.show()\n",
    "        \n",
    "        g, a = sort_adj(g)\n",
    "        a = pad_matrix(a, dataArgs[\"n_max\"], dataArgs[\"diag_value\"])  # pad adjacency matrix to allow less nodes than n_max and fill diagonal        \n",
    "        a_transformed = reshape_A(a, diag_offset = dataArgs[\"diag_offset\"])\n",
    "        \n",
    "        \n",
    "        ## Generate / Load Node Features ______________________________________________\n",
    "        f = generate_features(dataArgs, g, n, p)\n",
    "        \n",
    "        ## pad features with zeroes\n",
    "        f = pad_attr(f, dataArgs)\n",
    "\n",
    "        \n",
    "        ## Build Data Arrays___________________________________________________\n",
    "\n",
    "        F[i] = f\n",
    "        G[i] = a_transformed\n",
    "\n",
    "\n",
    "    ## Input and Output Size ___________________________________________________________\n",
    "\n",
    "    input_shape, output_shape = prepare_in_out(dataArgs[\"diag_offset\"], calculate_A_shape(dataArgs[\"n_max\"], dataArgs[\"diag_offset\"]), F.shape)\n",
    "    print(\"input_shape:\", input_shape, \", output_shape:\", output_shape)\n",
    "    \n",
    "    ## scale features in F for smoother training\n",
    "    #scaler = MinMaxScaler()\n",
    "    #scaler.fit(F)\n",
    "    #F = scaler.transform(F)\n",
    "    \n",
    "    return G, F, input_shape,output_shape\n",
    "    \n",
    "dataArgs = {\"n_graphs\": 10000, \"n_max\": 8, \"feature_dependence\": \"p\", \"fix_n\": False, \"diag_offset\": -2, \"diag_value\": 1, \"clip\": True, \"n_features\": 1}  #\"diag_offset\" - 1 == full adjacency\n",
    "G, F, input_shape, output_shape = generate_data(dataArgs)"
   ]
  },
  {
   "cell_type": "markdown",
   "metadata": {},
   "source": [
    "## Data Imputation"
   ]
  },
  {
   "cell_type": "code",
   "execution_count": 6,
   "metadata": {
    "code_folding": []
   },
   "outputs": [],
   "source": [
    "def imput_data(imputeArgs, modelArgs, dataArgs, G, F):\n",
    "        \n",
    "    G_imputed = np.copy(G)\n",
    "    F_imputed = np.copy(F)\n",
    "    \n",
    "    if imputeArgs[\"impute\"] == \"features\":\n",
    "        \n",
    "        for i, (g,f) in enumerate(zip(G_imputed, F_imputed)):\n",
    "            \n",
    "            f = np.squeeze(f)\n",
    "            num_features = len(f[f > 0])\n",
    "            impute_num = int(imputeArgs[\"impute_frac\"] * num_features)\n",
    "            impute_f_ind = random.sample(range(num_features), impute_num)  ## impute features\n",
    "\n",
    "            row, col = np.diag_indices(f.shape[0])\n",
    "\n",
    "            f[impute_f_ind] = imputeArgs[\"impute_value\"]  ## replace features\n",
    "            F_imputed[i] = np.reshape(f,(f.shape[-1], 1))\n",
    "        \n",
    "        \n",
    "    \n",
    "    if imputeArgs[\"impute\"] == \"structure\":\n",
    "    \n",
    "        for i, (g,f) in enumerate(zip(G_imputed, F_imputed)):\n",
    "                        \n",
    "            f = np.squeeze(f)            \n",
    "            num_nodes = len(f[f > 0])\n",
    "            impute_num = int(imputeArgs[\"impute_frac\"] * num_nodes)\n",
    "            impute_n_ind = random.sample(range(num_nodes), impute_num)  ## impute nodes\n",
    "            \n",
    "            ## remove edges of imputed nodes\n",
    "            for impute_n in impute_n_ind:\n",
    "                \n",
    "                ## remove rows\n",
    "                g[impute_n,:impute_n] = 0\n",
    "                g[impute_n,impute_n+1:] = 0\n",
    "                \n",
    "                ## remove columns\n",
    "                g[:impute_n,impute_n] = 0\n",
    "                g[impute_n+1:,impute_n] = 0\n",
    "\n",
    "            G_imputed[i] = g\n",
    "        \n",
    "    return G_imputed, F_imputed"
   ]
  },
  {
   "cell_type": "markdown",
   "metadata": {},
   "source": [
    "# beta-VAE Model"
   ]
  },
  {
   "cell_type": "code",
   "execution_count": 7,
   "metadata": {
    "code_folding": []
   },
   "outputs": [],
   "source": [
    "## Model Setup\n",
    "from __future__ import absolute_import\n",
    "from __future__ import division\n",
    "from __future__ import print_function\n",
    "\n",
    "## Keras\n",
    "from keras.layers import Lambda, Input, Dense, Conv2D, Conv2DTranspose, Flatten, Reshape, Dropout, Activation, concatenate\n",
    "from keras.models import Model\n",
    "from keras.callbacks import EarlyStopping, ModelCheckpoint\n",
    "from keras.losses import mse, binary_crossentropy\n",
    "from keras.utils import plot_model\n",
    "from keras import backend as K\n",
    "import tensorflow as tf\n",
    "\n",
    "from sklearn.model_selection import train_test_split\n",
    "from support.keras_dgl.utils import *\n",
    "from support.keras_dgl.layers import MultiGraphCNN\n",
    "\n",
    "\n",
    "class VAE():\n",
    "\n",
    "    # reparameterization trick\n",
    "    # instead of sampling from Q(z|X), sample eps = N(0,I)\n",
    "    # then z = z_mean + sqrt(var)*eps\n",
    "\n",
    "    def sampling(self, args):\n",
    "        \"\"\"Reparameterization trick by sampling fr an isotropic unit Gaussian.\n",
    "        # Arguments\n",
    "            args (tensor): mean and log of variance of Q(z|X)\n",
    "        # Returns\n",
    "            z (tensor): sampled latent vector\n",
    "        \"\"\"\n",
    "\n",
    "        z_mean, z_log_var = args\n",
    "        batch = K.shape(z_mean)[0]\n",
    "        dim = K.int_shape(z_mean)[1]\n",
    "        # by default, random_normal has mean=0 and std=1.0\n",
    "        epsilon = K.random_normal(shape=(batch, dim))\n",
    "        return z_mean + K.exp(0.5 * z_log_var) * epsilon\n",
    "\n",
    "    \n",
    "    \n",
    "    def __init__(self, modelArgs, trainArgs, g_train, g_train_mod_imputed, g_test, g_test_mod_imputed, f_train, f_train_imputed, f_test, f_test_imputed):\n",
    "\n",
    "        ## MODEL ______________________________________________________________       \n",
    "            \n",
    "        ## Graph Neural Network Architecture __________________________________\n",
    "            \n",
    "        ## 1) build encoder model____________________________________\n",
    "\n",
    "        # build graph_conv_filters\n",
    "        SYM_NORM = True\n",
    "        num_filters = 2\n",
    "        print(\"g_train shape:\", g_train.shape)\n",
    "        graph_conv_filters = preprocess_adj_tensor_with_identity(np.squeeze(g_train), SYM_NORM)\n",
    "\n",
    "        # build model\n",
    "        X_input = Input(shape=(f_train.shape[1], f_train.shape[2]))\n",
    "        graph_conv_filters_input = Input(shape=(graph_conv_filters.shape[1], graph_conv_filters.shape[2]))\n",
    "\n",
    "        # define inputs of features and graph topologies\n",
    "        inputs = [X_input, graph_conv_filters_input]\n",
    "\n",
    "        x = MultiGraphCNN(100, num_filters, activation='elu')([X_input, graph_conv_filters_input])\n",
    "        x = Dropout(0.2)(x)\n",
    "        x = MultiGraphCNN(100, num_filters, activation='elu')([x, graph_conv_filters_input])\n",
    "        x = Dropout(0.2)(x)\n",
    "        x = Lambda(lambda x: K.mean(x, axis=1))(x)  # adding a node invariant layer to make sure output does not depends upon the node order in a graph.\n",
    "        z_mean = Dense(modelArgs[\"latent_dim\"], name='z_mean')(x)\n",
    "        z_log_var = Dense(modelArgs[\"latent_dim\"], name='z_log_var')(x)\n",
    "\n",
    "        # use reparameterization trick to push the sampling out as input\n",
    "        # note that \"output_shape\" isn't necessary with the TensorFlow backend\n",
    "        z = Lambda(self.sampling, output_shape=(modelArgs[\"latent_dim\"],), name='z')([z_mean, z_log_var])\n",
    "\n",
    "\n",
    "        ## 2.1) build topology decoder model __________________________\n",
    "\n",
    "        ## shape info needed to build decoder model\n",
    "        inputs_2D_encoder = Input(shape=modelArgs[\"input_shape\"][1], name='encoder_input')\n",
    "        x_2D = inputs_2D_encoder\n",
    "        for i in range(2):\n",
    "            modelArgs['filters'] *= 2\n",
    "            x_2D = Conv2D(filters=modelArgs['filters'], kernel_size=modelArgs['kernel_size'], activation='relu',strides=2, padding='same')(x_2D)\n",
    "        shape_2D = K.int_shape(x_2D)\n",
    "\n",
    "        latent_inputs = Input(shape=(modelArgs[\"latent_dim\"],), name='z_sampling')\n",
    "        x_2D = Dense(shape_2D[1] * shape_2D[2] * shape_2D[3], activation='relu')(latent_inputs)\n",
    "        x_2D = Reshape((shape_2D[1], shape_2D[2], shape_2D[3]))(x_2D)\n",
    "\n",
    "        for i in range(2):\n",
    "            x_2D = Conv2DTranspose(filters=modelArgs['filters'], kernel_size=modelArgs['kernel_size'],activation='relu', strides=2, padding='same')(x_2D)\n",
    "            modelArgs['filters'] //= 2\n",
    "\n",
    "        topol_output = Conv2DTranspose(filters=1, kernel_size=modelArgs['kernel_size'], activation='sigmoid',padding='same', name='decoder_output')(x_2D)\n",
    "\n",
    "\n",
    "        ## 2.2) build attribute decoder model __________________________\n",
    "\n",
    "        y = Dense(4, activation='linear')(latent_inputs)\n",
    "        y = Dense(10, activation='linear')(latent_inputs)\n",
    "        y = Dense(modelArgs[\"output_shape\"][0][0], activation='sigmoid')(y)\n",
    "        attr_output = Reshape(modelArgs[\"output_shape\"][0])(y)\n",
    "\n",
    "     \n",
    "    \n",
    "        ## INSTANTIATE___________________________________\n",
    "\n",
    "        encoder = Model(inputs, [z_mean, z_log_var, z], name='encoder')\n",
    "        encoder.summary()\n",
    "\n",
    "        ## 2.1) instantiate topology decoder model\n",
    "        topol_decoder = Model(latent_inputs, topol_output, name='topol_decoder')\n",
    "        topol_decoder.summary()\n",
    "        \n",
    "        ## 2.2) instantiate feature decoder model\n",
    "        attr_decoder = Model(latent_inputs, attr_output, name='attr_decoder')\n",
    "        attr_decoder.summary()\n",
    "\n",
    "        \n",
    "        ## 3) instantiate VAE model\n",
    "        attr_outputs = topol_decoder(encoder(inputs)[2])\n",
    "        topol_outputs = attr_decoder(encoder(inputs)[2])\n",
    "        vae = Model(inputs, [attr_outputs, topol_outputs], name='vae')\n",
    "\n",
    "    \n",
    "\n",
    "        ## LOSS FUNCTIONS ______________________________________\n",
    "        \n",
    "        def attr_loss_func(y_true, y_pred):\n",
    "\n",
    "            ## RECONSTRUCTION LOSS_______________________            \n",
    "            ## mean squared error\n",
    "            attr_reconstruction_loss = mse(K.flatten(y_true), K.flatten(y_pred))\n",
    "            attr_reconstruction_loss *= modelArgs[\"input_shape\"][0][0]\n",
    "                            \n",
    "            ## KL LOSS _____________________________________________\n",
    "\n",
    "            kl_loss = 1 + z_log_var - K.square(z_mean) - K.exp(z_log_var)\n",
    "            kl_loss = K.sum(kl_loss, axis=-1)\n",
    "            kl_loss *= -0.5\n",
    "\n",
    "            ## COMPLETE LOSS __________________________________________________\n",
    "\n",
    "            #loss = K.mean(attr_reconstruction_loss + (trainArgs[\"beta\"] * kl_loss))\n",
    "            loss = K.mean(attr_reconstruction_loss)\n",
    "            \n",
    "            return loss\n",
    "        \n",
    "        \n",
    "        \n",
    "        def topol_loss_func(y_true, y_pred):\n",
    "            \n",
    "            ## RECONSTRUCTION LOSS_______________________\n",
    "            ## binary cross-entropy\n",
    "            topol_reconstruction_loss = binary_crossentropy(K.flatten(y_true), K.flatten(y_pred))\n",
    "            topol_reconstruction_loss *= (modelArgs[\"input_shape\"][1][0] * modelArgs[\"input_shape\"][1][1])\n",
    "                            \n",
    "            ## KL LOSS _____________________________________________\n",
    "\n",
    "            kl_loss = 1 + z_log_var - K.square(z_mean) - K.exp(z_log_var)\n",
    "            kl_loss = K.sum(kl_loss, axis=-1)\n",
    "            kl_loss *= -0.5\n",
    "\n",
    "            ## COMPLETE LOSS __________________________________________________\n",
    "\n",
    "            loss = K.mean(topol_reconstruction_loss + (trainArgs[\"beta\"] * kl_loss))\n",
    "\n",
    "            return loss\n",
    "        \n",
    "    \n",
    "        ## MODEL COMPILE______________________________________________\n",
    "        \n",
    "        vae.compile(optimizer='adam', loss={\"attr_decoder\": attr_loss_func, \"topol_decoder\": topol_loss_func})\n",
    "        vae.summary()\n",
    "        \n",
    "\n",
    "        ## TRAIN______________________________________________\n",
    "\n",
    "        # load the autoencoder weights\n",
    "\n",
    "        if trainArgs[\"weights\"] == \"load\":\n",
    "\n",
    "            vae.load_weights(\"models/weights/vae_mlp_mnist_latent_dim_\" + str(modelArgs[\"latent_dim\"]) + \".h5\")\n",
    "\n",
    "        # train the autoencoder\n",
    "\n",
    "        elif trainArgs[\"weights\"] == \"train\":\n",
    "\n",
    "            # Set callback functions to early stop training and save the best model so far\n",
    "            callbacks = [EarlyStopping(monitor='val_loss', patience=trainArgs[\"early_stop\"]), ModelCheckpoint(filepath=\"models/weights/vae_mlp_mnist_latent_dim_\" + str(modelArgs[\"latent_dim\"]) + \".h5\",save_best_only=True)]\n",
    "           \n",
    "            vae.fit(x = [f_train_imputed, g_train_mod_imputed], y= {\"attr_decoder\": f_train, \"topol_decoder\": g_train}, epochs=trainArgs[\"epochs\"], batch_size=trainArgs[\"batch_size\"], callbacks=callbacks, validation_data = ([f_test_imputed, g_test_mod_imputed], {\"attr_decoder\": f_test, \"topol_decoder\": g_test}))\n",
    "            vae.save_weights(\"models/weights/vae_mlp_mnist_latent_dim_\" + str(modelArgs[\"latent_dim\"]) + \".h5\")\n",
    "            \n",
    "            self.model = (encoder, topol_decoder, attr_decoder)"
   ]
  },
  {
   "cell_type": "markdown",
   "metadata": {},
   "source": [
    "### Data Split and Impute"
   ]
  },
  {
   "cell_type": "code",
   "execution_count": 8,
   "metadata": {},
   "outputs": [],
   "source": [
    "trainArgs = {\"beta\": 1, \"loss\": \"mse\", \"weights\": \"train\", \"early_stop\": 1, \"batch_size\": 256, \"epochs\": 50, \"data_split\": 0.2}\n",
    "modelArgs = {\"nn_architecture\": \"gnn\", \"latent_dim\": 3, \"filters\": 16, \"kernel_size\": 3, \"input_shape\": input_shape, \"output_shape\": output_shape, \"param_loss\": False,}\n",
    "imputeArgs = {\"impute\": \"features\", \"impute_frac\": 1.0, \"impute_value\": 0.0, }\n",
    "\n",
    "from support.keras_dgl.utils import *\n",
    "from support.keras_dgl.layers import MultiGraphCNN\n",
    "\n",
    "## Train and Validation Split _______________________________________________\n",
    "g_train, g_test, f_train, f_test = train_test_split(G, F, test_size=trainArgs[\"data_split\"], random_state=1, shuffle=True)\n",
    "\n",
    "## impute the data\n",
    "g_train_imputed, f_train_imputed = imput_data(imputeArgs, modelArgs, dataArgs, g_train, f_train)\n",
    "g_test_imputed, f_test_imputed = imput_data(imputeArgs, modelArgs, dataArgs, g_test, f_test)\n",
    "\n",
    "# build graph_conv_filters\n",
    "SYM_NORM = True\n",
    "g_train_mod_imputed = preprocess_adj_tensor_with_identity(np.squeeze(g_train_imputed), SYM_NORM)\n",
    "g_test_mod_imputed = preprocess_adj_tensor_with_identity(np.squeeze(g_test_imputed), SYM_NORM)\n",
    "\n",
    "data = (f_test_imputed, [g_test_mod_imputed, g_test])"
   ]
  },
  {
   "cell_type": "code",
   "execution_count": 9,
   "metadata": {
    "code_folding": []
   },
   "outputs": [
    {
     "name": "stdout",
     "output_type": "stream",
     "text": [
      "g_train shape: (8000, 8, 8, 1)\n",
      "WARNING:tensorflow:From /usr/local/lib/python3.7/site-packages/tensorflow/python/framework/op_def_library.py:263: colocate_with (from tensorflow.python.framework.ops) is deprecated and will be removed in a future version.\n",
      "Instructions for updating:\n",
      "Colocations handled automatically by placer.\n",
      "WARNING:tensorflow:From /usr/local/lib/python3.7/site-packages/keras/backend/tensorflow_backend.py:3368: calling dropout (from tensorflow.python.ops.nn_ops) with keep_prob is deprecated and will be removed in a future version.\n",
      "Instructions for updating:\n",
      "Please use `rate` instead of `keep_prob`. Rate should be set to `rate = 1 - keep_prob`.\n",
      "__________________________________________________________________________________________________\n",
      "Layer (type)                    Output Shape         Param #     Connected to                     \n",
      "==================================================================================================\n",
      "input_1 (InputLayer)            (None, 8, 1)         0                                            \n",
      "__________________________________________________________________________________________________\n",
      "input_2 (InputLayer)            (None, 16, 8)        0                                            \n",
      "__________________________________________________________________________________________________\n",
      "multi_graph_cnn_1 (MultiGraphCN (None, 8, 100)       300         input_1[0][0]                    \n",
      "                                                                 input_2[0][0]                    \n",
      "__________________________________________________________________________________________________\n",
      "dropout_1 (Dropout)             (None, 8, 100)       0           multi_graph_cnn_1[0][0]          \n",
      "__________________________________________________________________________________________________\n",
      "multi_graph_cnn_2 (MultiGraphCN (None, 8, 100)       20100       dropout_1[0][0]                  \n",
      "                                                                 input_2[0][0]                    \n",
      "__________________________________________________________________________________________________\n",
      "dropout_2 (Dropout)             (None, 8, 100)       0           multi_graph_cnn_2[0][0]          \n",
      "__________________________________________________________________________________________________\n",
      "lambda_1 (Lambda)               (None, 100)          0           dropout_2[0][0]                  \n",
      "__________________________________________________________________________________________________\n",
      "z_mean (Dense)                  (None, 3)            303         lambda_1[0][0]                   \n",
      "__________________________________________________________________________________________________\n",
      "z_log_var (Dense)               (None, 3)            303         lambda_1[0][0]                   \n",
      "__________________________________________________________________________________________________\n",
      "z (Lambda)                      (None, 3)            0           z_mean[0][0]                     \n",
      "                                                                 z_log_var[0][0]                  \n",
      "==================================================================================================\n",
      "Total params: 21,006\n",
      "Trainable params: 21,006\n",
      "Non-trainable params: 0\n",
      "__________________________________________________________________________________________________\n",
      "_________________________________________________________________\n",
      "Layer (type)                 Output Shape              Param #   \n",
      "=================================================================\n",
      "z_sampling (InputLayer)      (None, 3)                 0         \n",
      "_________________________________________________________________\n",
      "dense_1 (Dense)              (None, 256)               1024      \n",
      "_________________________________________________________________\n",
      "reshape_1 (Reshape)          (None, 2, 2, 64)          0         \n",
      "_________________________________________________________________\n",
      "conv2d_transpose_1 (Conv2DTr (None, 4, 4, 64)          36928     \n",
      "_________________________________________________________________\n",
      "conv2d_transpose_2 (Conv2DTr (None, 8, 8, 32)          18464     \n",
      "_________________________________________________________________\n",
      "decoder_output (Conv2DTransp (None, 8, 8, 1)           289       \n",
      "=================================================================\n",
      "Total params: 56,705\n",
      "Trainable params: 56,705\n",
      "Non-trainable params: 0\n",
      "_________________________________________________________________\n",
      "_________________________________________________________________\n",
      "Layer (type)                 Output Shape              Param #   \n",
      "=================================================================\n",
      "z_sampling (InputLayer)      (None, 3)                 0         \n",
      "_________________________________________________________________\n",
      "dense_3 (Dense)              (None, 10)                40        \n",
      "_________________________________________________________________\n",
      "dense_4 (Dense)              (None, 8)                 88        \n",
      "_________________________________________________________________\n",
      "reshape_2 (Reshape)          (None, 8, 1)              0         \n",
      "=================================================================\n",
      "Total params: 128\n",
      "Trainable params: 128\n",
      "Non-trainable params: 0\n",
      "_________________________________________________________________\n",
      "__________________________________________________________________________________________________\n",
      "Layer (type)                    Output Shape         Param #     Connected to                     \n",
      "==================================================================================================\n",
      "input_1 (InputLayer)            (None, 8, 1)         0                                            \n",
      "__________________________________________________________________________________________________\n",
      "input_2 (InputLayer)            (None, 16, 8)        0                                            \n",
      "__________________________________________________________________________________________________\n",
      "encoder (Model)                 [(None, 3), (None, 3 21006       input_1[0][0]                    \n",
      "                                                                 input_2[0][0]                    \n",
      "                                                                 input_1[0][0]                    \n",
      "                                                                 input_2[0][0]                    \n",
      "__________________________________________________________________________________________________\n",
      "topol_decoder (Model)           (None, 8, 8, 1)      56705       encoder[1][2]                    \n",
      "__________________________________________________________________________________________________\n",
      "attr_decoder (Model)            (None, 8, 1)         128         encoder[2][2]                    \n",
      "==================================================================================================\n",
      "Total params: 77,839\n",
      "Trainable params: 77,839\n",
      "Non-trainable params: 0\n",
      "__________________________________________________________________________________________________\n",
      "WARNING:tensorflow:From /usr/local/lib/python3.7/site-packages/tensorflow/python/ops/math_ops.py:3066: to_int32 (from tensorflow.python.ops.math_ops) is deprecated and will be removed in a future version.\n",
      "Instructions for updating:\n",
      "Use tf.cast instead.\n",
      "Train on 8000 samples, validate on 2000 samples\n",
      "Epoch 1/50\n",
      "8000/8000 [==============================] - 2s 202us/step - loss: 37.3601 - topol_decoder_loss: 36.0305 - attr_decoder_loss: 1.3296 - val_loss: 33.0086 - val_topol_decoder_loss: 31.7291 - val_attr_decoder_loss: 1.2796\n",
      "Epoch 2/50\n",
      "8000/8000 [==============================] - 1s 96us/step - loss: 31.4795 - topol_decoder_loss: 30.2670 - attr_decoder_loss: 1.2125 - val_loss: 30.7440 - val_topol_decoder_loss: 29.5721 - val_attr_decoder_loss: 1.1719\n",
      "Epoch 3/50\n",
      "8000/8000 [==============================] - 1s 97us/step - loss: 29.5807 - topol_decoder_loss: 28.4583 - attr_decoder_loss: 1.1224 - val_loss: 28.8043 - val_topol_decoder_loss: 27.7146 - val_attr_decoder_loss: 1.0897\n",
      "Epoch 4/50\n"
     ]
    },
    {
     "name": "stdout",
     "output_type": "stream",
     "text": [
      "8000/8000 [==============================] - 1s 96us/step - loss: 28.5375 - topol_decoder_loss: 27.4888 - attr_decoder_loss: 1.0487 - val_loss: 28.4747 - val_topol_decoder_loss: 27.4468 - val_attr_decoder_loss: 1.0279\n",
      "Epoch 5/50\n",
      "8000/8000 [==============================] - 1s 97us/step - loss: 28.0058 - topol_decoder_loss: 27.0217 - attr_decoder_loss: 0.9841 - val_loss: 27.9331 - val_topol_decoder_loss: 26.9725 - val_attr_decoder_loss: 0.9607\n",
      "Epoch 6/50\n",
      "8000/8000 [==============================] - 1s 96us/step - loss: 27.6453 - topol_decoder_loss: 26.7271 - attr_decoder_loss: 0.9181 - val_loss: 27.7394 - val_topol_decoder_loss: 26.8339 - val_attr_decoder_loss: 0.9055\n",
      "Epoch 7/50\n",
      "8000/8000 [==============================] - 1s 97us/step - loss: 27.5011 - topol_decoder_loss: 26.6367 - attr_decoder_loss: 0.8643 - val_loss: 27.5943 - val_topol_decoder_loss: 26.7395 - val_attr_decoder_loss: 0.8548\n",
      "Epoch 8/50\n",
      "8000/8000 [==============================] - 1s 96us/step - loss: 27.3829 - topol_decoder_loss: 26.5692 - attr_decoder_loss: 0.8138 - val_loss: 27.6230 - val_topol_decoder_loss: 26.8136 - val_attr_decoder_loss: 0.8093\n"
     ]
    }
   ],
   "source": [
    "vae = VAE(modelArgs, trainArgs, g_train, g_train_mod_imputed, g_test, g_test_mod_imputed, f_train, f_train_imputed, f_test, f_test_imputed)\n",
    "\n",
    "models = vae.model "
   ]
  },
  {
   "cell_type": "markdown",
   "metadata": {},
   "source": [
    "# Analysis"
   ]
  },
  {
   "cell_type": "markdown",
   "metadata": {},
   "source": [
    "### Generate Single Graph"
   ]
  },
  {
   "cell_type": "code",
   "execution_count": 10,
   "metadata": {
    "code_folding": []
   },
   "outputs": [
    {
     "name": "stdout",
     "output_type": "stream",
     "text": [
      "latent dimensions: 3\n",
      "nodes_n: 5\n",
      "node attributes: [0.6688702  0.7241633  0.12274775 0.0348244  0.03340554]\n"
     ]
    },
    {
     "data": {
      "image/png": "[encoded data removed]",
      "text/plain": [
       "<Figure size 432x288 with 1 Axes>"
      ]
     },
     "metadata": {},
     "output_type": "display_data"
    },
    {
     "name": "stderr",
     "output_type": "stream",
     "text": [
      "/usr/local/lib/python3.7/site-packages/scipy/stats/stats.py:1713: FutureWarning: Using a non-tuple sequence for multidimensional indexing is deprecated; use `arr[tuple(seq)]` instead of `arr[seq]`. In the future this will be interpreted as an array index, `arr[np.array(seq)]`, which will result either in an error or a different result.\n",
      "  return np.add.reduce(sorted[indexer] * weights, axis=axis) / sumval\n"
     ]
    },
    {
     "data": {
      "image/png": "[encoded data removed]",
      "text/plain": [
       "<Figure size 432x288 with 1 Axes>"
      ]
     },
     "metadata": {
      "needs_background": "light"
     },
     "output_type": "display_data"
    }
   ],
   "source": [
    "analyzeArgs = {\"z\": [0,1], \"activations\": [20,-2], \"normalize_feature\": False}\n",
    "generate_single_features(analyzeArgs, modelArgs, dataArgs, models, orig_cmap)"
   ]
  },
  {
   "cell_type": "markdown",
   "metadata": {},
   "source": [
    "### Generate Graph Manifold"
   ]
  },
  {
   "cell_type": "code",
   "execution_count": 17,
   "metadata": {},
   "outputs": [
    {
     "name": "stdout",
     "output_type": "stream",
     "text": [
      "latent dimensions: 3\n"
     ]
    },
    {
     "data": {
      "image/png": "[encoded data removed]",
      "text/plain": [
       "<Figure size 720x720 with 49 Axes>"
      ]
     },
     "metadata": {},
     "output_type": "display_data"
    },
    {
     "data": {
      "image/png": "[encoded data removed]",
      "text/plain": [
       "<Figure size 720x720 with 1 Axes>"
      ]
     },
     "metadata": {
      "needs_background": "light"
     },
     "output_type": "display_data"
    }
   ],
   "source": [
    "# range, normal, z\n",
    "analyzeArgs = {\"z\": [0,2], \"sample\": \"range\", \"act_range\": [-4, 4], \"act_scale\": 3, \"size_of_manifold\": 7, \"save_plots\": False, \"normalize_feature\": False}\n",
    "generate_manifold_features(analyzeArgs, modelArgs, dataArgs, models, data, orig_cmap, batch_size=trainArgs[\"batch_size\"])"
   ]
  },
  {
   "cell_type": "markdown",
   "metadata": {},
   "source": [
    "## Impaint Graphs (Extreme Cases)"
   ]
  },
  {
   "cell_type": "code",
   "execution_count": 22,
   "metadata": {
    "code_folding": [
     0
    ]
   },
   "outputs": [
    {
     "name": "stdout",
     "output_type": "stream",
     "text": [
      "impainting the features\n",
      "original attributes: [0. 0. 0. 0.]\n"
     ]
    },
    {
     "data": {
      "image/png": "[encoded data removed]",
      "text/plain": [
       "<Figure size 432x288 with 1 Axes>"
      ]
     },
     "metadata": {},
     "output_type": "display_data"
    },
    {
     "name": "stdout",
     "output_type": "stream",
     "text": [
      "reconstructed attributes:: [0.49254015 0.4270708  0.44805112 0.37659913]\n"
     ]
    },
    {
     "data": {
      "image/png": "[encoded data removed]",
      "text/plain": [
       "<Figure size 432x288 with 1 Axes>"
      ]
     },
     "metadata": {},
     "output_type": "display_data"
    }
   ],
   "source": [
    "def impaint(analyzeArgs, imputeArgs, modelArgs, models, batch_size=128):\n",
    "\n",
    "    print(\"impainting the\", imputeArgs[\"impute\"])\n",
    "    \n",
    "    ## unpack models__________________________\n",
    "    \n",
    "    encoder, topol_decoder, attr_decoder = models  # trained models\n",
    "    \n",
    "    ## generate feature data___________________________\n",
    "    f = np.reshape([analyzeArgs[\"f\"]] * analyzeArgs[\"n\"], (analyzeArgs[\"n\"], 1))\n",
    "    \n",
    "    ## pad features with zeroes\n",
    "    f = pad_attr(f, dataArgs)\n",
    "\n",
    "    \n",
    "    ## generate graph data___________________________\n",
    "    G = np.zeros((1, *calculate_A_shape(dataArgs[\"n_max\"], dataArgs[\"diag_offset\"])))\n",
    "    F = np.zeros((1, dataArgs[\"n_max\"], dataArgs[\"n_features\"]))\n",
    "\n",
    "    g = get_graph(n = analyzeArgs[\"n\"], p = analyzeArgs[\"p\"], draw = False)\n",
    "    \n",
    "    g, a = sort_adj(g)\n",
    "    a = pad_matrix(a, dataArgs[\"n_max\"], dataArgs[\"diag_value\"])  # pad adjacency matrix to allow less nodes than n_max and fill diagonal\n",
    "    a = reshape_A(a, diag_offset = dataArgs[\"diag_offset\"])\n",
    "    \n",
    "    G[0] = a\n",
    "    F[0] = f\n",
    "    \n",
    "    \n",
    "    ## impute data_______________________\n",
    "    \n",
    "    a_imputed, f_imputed = imput_data(imputeArgs, modelArgs, dataArgs, G, F)\n",
    "    \n",
    "    \n",
    "    ## ENCODER_________________________________\n",
    "    \n",
    "    # build graph_conv_filters\n",
    "    SYM_NORM = True\n",
    "    a_imputed_mod = preprocess_adj_tensor_with_identity(np.squeeze(a_imputed), SYM_NORM)\n",
    "    z_mean, _, _ = encoder.predict([f_imputed, a_imputed_mod], batch_size = batch_size)\n",
    "\n",
    "    \n",
    "    ## DECODER_________________________________    \n",
    "    \n",
    "    topol_decoded = topol_decoder.predict(z_mean, batch_size = batch_size)\n",
    "    attr_decoded = attr_decoder.predict(z_mean, batch_size = batch_size)\n",
    "    \n",
    "    \n",
    "    ## GRAPH RECONSTRUCTION______________________\n",
    "    \n",
    "    ## reconstruct graph from output\n",
    "    reconstructed_a = reconstruct_adjacency(topol_decoded, dataArgs[\"clip\"], dataArgs[\"diag_offset\"])\n",
    "    reconstructed_a, n_nodes = unpad_matrix(reconstructed_a, dataArgs[\"diag_value\"], 0.2, dataArgs[\"fix_n\"])\n",
    "    reconstructed_g = nx.from_numpy_matrix(reconstructed_a)\n",
    "    \n",
    "    ## reconstruct attributes\n",
    "    reconstructed_f = unpad_attr(attr_decoded[0], n_nodes, analyzeArgs, dataArgs)\n",
    "    \n",
    "    ## create imputed graph\n",
    "    a_imputed, n_nodes = unpad_matrix(np.squeeze(a_imputed[0]), dataArgs[\"diag_value\"], 0.2, dataArgs[\"fix_n\"])\n",
    "    g_imputed = nx.from_numpy_matrix(a_imputed)\n",
    "    \n",
    "    f_imputed = np.reshape(f_imputed, (f_imputed.shape[1]))\n",
    "    f_imputed = f_imputed[:analyzeArgs[\"n\"]]\n",
    "    \n",
    "    print(\"original attributes:\", f_imputed)\n",
    "    \n",
    "    \n",
    "    ## GRAPH DRAWING_____________________________\n",
    "    \n",
    "    ## 1) draw imputed graph\n",
    "    if reconstructed_f.shape[0] > 0:\n",
    "        fixed_cmap = shiftedColorMap(orig_cmap, start=min(f_imputed), midpoint=0.5, stop=max(f_imputed),name='fixed')\n",
    "    else:\n",
    "        fixed_cmap = shiftedColorMap(orig_cmap, start=0.5, midpoint=0.5, stop=0.5, name='fixed')    \n",
    "    nx.draw(g_imputed, node_color=f_imputed, font_color='white', cmap = fixed_cmap)\n",
    "    plt.show()\n",
    "    \n",
    "    ## 2) draw reconstructed graph\n",
    "    if reconstructed_f.shape[0] > 0:\n",
    "        fixed_cmap = shiftedColorMap(orig_cmap, start=min(reconstructed_f), midpoint=0.5, stop=max(reconstructed_f),name='fixed')\n",
    "    else:\n",
    "        fixed_cmap = shiftedColorMap(orig_cmap, start=0.5, midpoint=0.5, stop=0.5, name='fixed') \n",
    "    print(\"reconstructed attributes::\", reconstructed_f)\n",
    "    nx.draw(reconstructed_g, node_color=reconstructed_f, font_color='white', cmap = fixed_cmap)\n",
    "    plt.show()\n",
    "\n",
    "        \n",
    "  ## PLOT RESULTS ________________________________________\n",
    "\n",
    "imputeArgs[\"impute_frac\"] = 1.0\n",
    "analyzeArgs = {\"n\": 4, \"p\": 0.1, \"f\": 0.2, \"normalize_feature\": False}\n",
    "impaint(analyzeArgs, imputeArgs, modelArgs, models, batch_size=trainArgs[\"batch_size\"])"
   ]
  },
  {
   "cell_type": "code",
   "execution_count": null,
   "metadata": {},
   "outputs": [],
   "source": []
  }
 ],
 "metadata": {
  "kernelspec": {
   "display_name": "Python 3",
   "language": "python",
   "name": "python3"
  },
  "language_info": {
   "codemirror_mode": {
    "name": "ipython",
    "version": 3
   },
   "file_extension": ".py",
   "mimetype": "text/x-python",
   "name": "python",
   "nbconvert_exporter": "python",
   "pygments_lexer": "ipython3",
   "version": "3.7.3"
  }
 },
 "nbformat": 4,
 "nbformat_minor": 2
}
